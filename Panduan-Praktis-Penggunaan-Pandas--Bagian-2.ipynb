{
 "cells": [
  {
   "cell_type": "markdown",
   "metadata": {},
   "source": [
    "# PANDUAN PRAKTIS PENGGUNAAN PANDAS - BAGIAN 2"
   ]
  },
  {
   "cell_type": "markdown",
   "metadata": {},
   "source": [
    "Pandas adalah sebuah paket library pada python yang digunakan untuk mempermudah dalam mengolah dan menganalisa data-data terstruktur. Pandas merupakan paket penting yang wajib diketahui untuk seorang data engineer, data analyst dan data scientist jika ingin mengolah dan manganalisa data menggunakan python.\n",
    "\n",
    "Ini adalah bagian kedua dari seri Panduan Praktis Penggunaan Pandas. Pada bagian sebelumnya, telah dipelajari tentang cara membaca data, mendapatkan informasi struktur data, memfilter, dan mengurutkan data. Bagian 1 dapat diakses melalui link berikut [link](https://github.com/project303/Ngulik-Big-Data/blob/master/Panduan-Praktis-Penggunaan-Pandas--Bagian-1.ipynb)\n",
    "\n",
    "Yuk kita selesaikan materi ini supaya dapat segera beraksi menggunakan Pandas !"
   ]
  },
  {
   "cell_type": "code",
   "execution_count": 1,
   "metadata": {},
   "outputs": [],
   "source": [
    "import pandas as pd\n",
    "\n",
    "url = \"https://raw.githubusercontent.com/project303/dataset/master/data-province-2015.cvs\"\n",
    "df = pd.read_csv(url, sep='\\t')"
   ]
  },
  {
   "cell_type": "markdown",
   "metadata": {},
   "source": [
    "## Summarising Data"
   ]
  },
  {
   "cell_type": "markdown",
   "metadata": {},
   "source": [
    "Pandas menyediakan fungsi statistik agregasi, seperti count, sum, min, max dan lainnya. Fungsi-fungsi ini dapat diterapkan ke kolom. Misalnya fungsi **count()** seperti yang telah sedikit dibahas pada bagian pertama tulisan ini. Fungsi ini dapat digunakan untuk menghitung jumlah record untuk setiap kolom."
   ]
  },
  {
   "cell_type": "code",
   "execution_count": 2,
   "metadata": {},
   "outputs": [
    {
     "data": {
      "text/plain": [
       "province                34\n",
       "rainfall                34\n",
       "rainy_day               34\n",
       "expenses_food_urban     34\n",
       "expenses_other_urban    34\n",
       "expenses_food_rural     34\n",
       "expense_other_rural     34\n",
       "unemployment            34\n",
       "time_zone               34\n",
       "island                  34\n",
       "dtype: int64"
      ]
     },
     "execution_count": 2,
     "metadata": {},
     "output_type": "execute_result"
    }
   ],
   "source": [
    "df.count()"
   ]
  },
  {
   "cell_type": "markdown",
   "metadata": {},
   "source": [
    "Perlu diingat, bahwa fungsi **count()** hanya menghitung untuk record yang tidak bernilai null. Pada contoh jumlah record untuk setiap kolom adalah sama yaitu 34 dan tidak ada yang memiliki nilai null"
   ]
  },
  {
   "cell_type": "markdown",
   "metadata": {},
   "source": [
    "Untuk menghitung jumlah record pada sebuah kolom dapat menggunakan perintah berikut"
   ]
  },
  {
   "cell_type": "code",
   "execution_count": 3,
   "metadata": {},
   "outputs": [
    {
     "data": {
      "text/plain": [
       "34"
      ]
     },
     "execution_count": 3,
     "metadata": {},
     "output_type": "execute_result"
    }
   ],
   "source": [
    "df.rainfall.count()"
   ]
  },
  {
   "cell_type": "markdown",
   "metadata": {},
   "source": [
    "atau dapat juga ditulis seperti berikut"
   ]
  },
  {
   "cell_type": "code",
   "execution_count": 4,
   "metadata": {},
   "outputs": [
    {
     "data": {
      "text/plain": [
       "34"
      ]
     },
     "execution_count": 4,
     "metadata": {},
     "output_type": "execute_result"
    }
   ],
   "source": [
    "df['rainfall'].count()"
   ]
  },
  {
   "cell_type": "markdown",
   "metadata": {},
   "source": [
    "Fungsi lain seperti **sum()**, **min()**, **max()**, **mean()** dan lain-lain, hampir sama cara penggunaannya"
   ]
  },
  {
   "cell_type": "code",
   "execution_count": 5,
   "metadata": {},
   "outputs": [
    {
     "data": {
      "text/plain": [
       "province                AcehSumatera UtaraSumatera BaratRiauJambiSumat...\n",
       "rainfall                                                          63615.1\n",
       "rainy_day                                                            4909\n",
       "expenses_food_urban                                              16189922\n",
       "expenses_other_urban                                             20277168\n",
       "expenses_food_rural     3951364130874479444727564128713583914037233591...\n",
       "expense_other_rural     2601832694073191434139293493292609233266562947...\n",
       "unemployment                                                       203.32\n",
       "time_zone                                                              54\n",
       "island                  SumateraSumateraSumateraSumateraSumateraSumate...\n",
       "dtype: object"
      ]
     },
     "execution_count": 5,
     "metadata": {},
     "output_type": "execute_result"
    }
   ],
   "source": [
    "df.sum()"
   ]
  },
  {
   "cell_type": "markdown",
   "metadata": {},
   "source": [
    "Pada contoh diatas terlihat sesuatu yang agak berbeda, yaitu kolom **province** dan **island**. Ini terjadi karena kolom tersebut bukan bernilai numerik"
   ]
  },
  {
   "cell_type": "markdown",
   "metadata": {},
   "source": [
    "Penggunaan lain dari fungsi statistik dapat dilihat sebagai berikut:"
   ]
  },
  {
   "cell_type": "code",
   "execution_count": 6,
   "metadata": {},
   "outputs": [
    {
     "name": "stdout",
     "output_type": "stream",
     "text": [
      "Total rainfall \t\t: 63615.1\n",
      "Minimum rainfall value \t: 460.9\n",
      "Maximum rainfall value \t: 3548.0\n",
      "Average rainfall value \t: 1871.0323529411764\n"
     ]
    }
   ],
   "source": [
    "print('Total rainfall \\t\\t:', df.rainfall.sum())\n",
    "print('Minimum rainfall value \\t:', df.rainfall.min())\n",
    "print('Maximum rainfall value \\t:', df.rainfall.max())\n",
    "print('Average rainfall value \\t:', df.rainfall.mean())"
   ]
  },
  {
   "cell_type": "markdown",
   "metadata": {},
   "source": [
    "## Grouping"
   ]
  },
  {
   "cell_type": "markdown",
   "metadata": {},
   "source": [
    "Pandas memiliki fungsi **groupby()** untuk melakukan perhitungan kelompok berdasarkan nilai unik sesuai kolom yang dipilih. Sebagai contoh, akan dilakukan perhitungan jumlah records kolom **time_zone** dikelompokkan berdasarkan nilai uniknya"
   ]
  },
  {
   "cell_type": "code",
   "execution_count": 7,
   "metadata": {},
   "outputs": [
    {
     "data": {
      "text/html": [
       "<div>\n",
       "<style scoped>\n",
       "    .dataframe tbody tr th:only-of-type {\n",
       "        vertical-align: middle;\n",
       "    }\n",
       "\n",
       "    .dataframe tbody tr th {\n",
       "        vertical-align: top;\n",
       "    }\n",
       "\n",
       "    .dataframe thead th {\n",
       "        text-align: right;\n",
       "    }\n",
       "</style>\n",
       "<table border=\"1\" class=\"dataframe\">\n",
       "  <thead>\n",
       "    <tr style=\"text-align: right;\">\n",
       "      <th></th>\n",
       "      <th>province</th>\n",
       "      <th>rainfall</th>\n",
       "      <th>rainy_day</th>\n",
       "      <th>expenses_food_urban</th>\n",
       "      <th>expenses_other_urban</th>\n",
       "      <th>expenses_food_rural</th>\n",
       "      <th>expense_other_rural</th>\n",
       "      <th>unemployment</th>\n",
       "      <th>island</th>\n",
       "    </tr>\n",
       "    <tr>\n",
       "      <th>time_zone</th>\n",
       "      <th></th>\n",
       "      <th></th>\n",
       "      <th></th>\n",
       "      <th></th>\n",
       "      <th></th>\n",
       "      <th></th>\n",
       "      <th></th>\n",
       "      <th></th>\n",
       "      <th></th>\n",
       "    </tr>\n",
       "  </thead>\n",
       "  <tbody>\n",
       "    <tr>\n",
       "      <th>1</th>\n",
       "      <td>18</td>\n",
       "      <td>18</td>\n",
       "      <td>18</td>\n",
       "      <td>18</td>\n",
       "      <td>18</td>\n",
       "      <td>18</td>\n",
       "      <td>18</td>\n",
       "      <td>18</td>\n",
       "      <td>18</td>\n",
       "    </tr>\n",
       "    <tr>\n",
       "      <th>2</th>\n",
       "      <td>12</td>\n",
       "      <td>12</td>\n",
       "      <td>12</td>\n",
       "      <td>12</td>\n",
       "      <td>12</td>\n",
       "      <td>12</td>\n",
       "      <td>12</td>\n",
       "      <td>12</td>\n",
       "      <td>12</td>\n",
       "    </tr>\n",
       "    <tr>\n",
       "      <th>3</th>\n",
       "      <td>4</td>\n",
       "      <td>4</td>\n",
       "      <td>4</td>\n",
       "      <td>4</td>\n",
       "      <td>4</td>\n",
       "      <td>4</td>\n",
       "      <td>4</td>\n",
       "      <td>4</td>\n",
       "      <td>4</td>\n",
       "    </tr>\n",
       "  </tbody>\n",
       "</table>\n",
       "</div>"
      ],
      "text/plain": [
       "           province  rainfall  rainy_day  expenses_food_urban  \\\n",
       "time_zone                                                       \n",
       "1                18        18         18                   18   \n",
       "2                12        12         12                   12   \n",
       "3                 4         4          4                    4   \n",
       "\n",
       "           expenses_other_urban  expenses_food_rural  expense_other_rural  \\\n",
       "time_zone                                                                   \n",
       "1                            18                   18                   18   \n",
       "2                            12                   12                   12   \n",
       "3                             4                    4                    4   \n",
       "\n",
       "           unemployment  island  \n",
       "time_zone                        \n",
       "1                    18      18  \n",
       "2                    12      12  \n",
       "3                     4       4  "
      ]
     },
     "execution_count": 7,
     "metadata": {},
     "output_type": "execute_result"
    }
   ],
   "source": [
    "df.groupby('time_zone').count()"
   ]
  },
  {
   "cell_type": "markdown",
   "metadata": {},
   "source": [
    "Dari data diatas, terlihat bahwa time_zone memiliki 3 nilai unik yaitu 1, 2 dan 3"
   ]
  },
  {
   "cell_type": "markdown",
   "metadata": {},
   "source": [
    "Jika ingin hannya menampilkan kolom tertentu, dapat dituliskan sepeti berikut"
   ]
  },
  {
   "cell_type": "code",
   "execution_count": 8,
   "metadata": {},
   "outputs": [
    {
     "data": {
      "text/plain": [
       "time_zone\n",
       "1    18\n",
       "2    12\n",
       "3     4\n",
       "Name: province, dtype: int64"
      ]
     },
     "execution_count": 8,
     "metadata": {},
     "output_type": "execute_result"
    }
   ],
   "source": [
    "df.groupby(\"time_zone\")[\"province\"].count()"
   ]
  },
  {
   "cell_type": "markdown",
   "metadata": {},
   "source": [
    "Fungsi summary lain seperti sum, min, max, mean, first, last dapat digunakan pada fungsi **groupby()** untuk mendapatkan nilai statistik setiap kelompok. Misalkan kita ingin mendapatkan nilai yang pertama untuk setiap time_zone"
   ]
  },
  {
   "cell_type": "code",
   "execution_count": 9,
   "metadata": {},
   "outputs": [
    {
     "data": {
      "text/html": [
       "<div>\n",
       "<style scoped>\n",
       "    .dataframe tbody tr th:only-of-type {\n",
       "        vertical-align: middle;\n",
       "    }\n",
       "\n",
       "    .dataframe tbody tr th {\n",
       "        vertical-align: top;\n",
       "    }\n",
       "\n",
       "    .dataframe thead th {\n",
       "        text-align: right;\n",
       "    }\n",
       "</style>\n",
       "<table border=\"1\" class=\"dataframe\">\n",
       "  <thead>\n",
       "    <tr style=\"text-align: right;\">\n",
       "      <th></th>\n",
       "      <th>province</th>\n",
       "      <th>rainfall</th>\n",
       "      <th>rainy_day</th>\n",
       "      <th>expenses_food_urban</th>\n",
       "      <th>expenses_other_urban</th>\n",
       "      <th>expenses_food_rural</th>\n",
       "      <th>expense_other_rural</th>\n",
       "      <th>unemployment</th>\n",
       "      <th>island</th>\n",
       "    </tr>\n",
       "    <tr>\n",
       "      <th>time_zone</th>\n",
       "      <th></th>\n",
       "      <th></th>\n",
       "      <th></th>\n",
       "      <th></th>\n",
       "      <th></th>\n",
       "      <th></th>\n",
       "      <th></th>\n",
       "      <th></th>\n",
       "      <th></th>\n",
       "    </tr>\n",
       "  </thead>\n",
       "  <tbody>\n",
       "    <tr>\n",
       "      <th>1</th>\n",
       "      <td>Aceh</td>\n",
       "      <td>1575.0</td>\n",
       "      <td>146</td>\n",
       "      <td>466355</td>\n",
       "      <td>529945</td>\n",
       "      <td>395136</td>\n",
       "      <td>260183</td>\n",
       "      <td>9.93</td>\n",
       "      <td>Sumatera</td>\n",
       "    </tr>\n",
       "    <tr>\n",
       "      <th>2</th>\n",
       "      <td>Bali</td>\n",
       "      <td>1133.8</td>\n",
       "      <td>124</td>\n",
       "      <td>441921</td>\n",
       "      <td>737657</td>\n",
       "      <td>389091</td>\n",
       "      <td>441381</td>\n",
       "      <td>1.99</td>\n",
       "      <td>Bali</td>\n",
       "    </tr>\n",
       "    <tr>\n",
       "      <th>3</th>\n",
       "      <td>Maluku</td>\n",
       "      <td>1987.2</td>\n",
       "      <td>167</td>\n",
       "      <td>486374</td>\n",
       "      <td>511825</td>\n",
       "      <td>378946</td>\n",
       "      <td>285648</td>\n",
       "      <td>9.93</td>\n",
       "      <td>Maluku</td>\n",
       "    </tr>\n",
       "  </tbody>\n",
       "</table>\n",
       "</div>"
      ],
      "text/plain": [
       "          province  rainfall  rainy_day  expenses_food_urban  \\\n",
       "time_zone                                                      \n",
       "1             Aceh    1575.0        146               466355   \n",
       "2             Bali    1133.8        124               441921   \n",
       "3           Maluku    1987.2        167               486374   \n",
       "\n",
       "           expenses_other_urban expenses_food_rural expense_other_rural  \\\n",
       "time_zone                                                                 \n",
       "1                        529945              395136              260183   \n",
       "2                        737657              389091              441381   \n",
       "3                        511825              378946              285648   \n",
       "\n",
       "           unemployment    island  \n",
       "time_zone                          \n",
       "1                  9.93  Sumatera  \n",
       "2                  1.99      Bali  \n",
       "3                  9.93    Maluku  "
      ]
     },
     "execution_count": 9,
     "metadata": {},
     "output_type": "execute_result"
    }
   ],
   "source": [
    "df.groupby('time_zone').first()"
   ]
  },
  {
   "cell_type": "markdown",
   "metadata": {},
   "source": [
    "Menghitung rata-rata rainfall untuk setiap time_zone"
   ]
  },
  {
   "cell_type": "code",
   "execution_count": 10,
   "metadata": {},
   "outputs": [
    {
     "data": {
      "text/html": [
       "<div>\n",
       "<style scoped>\n",
       "    .dataframe tbody tr th:only-of-type {\n",
       "        vertical-align: middle;\n",
       "    }\n",
       "\n",
       "    .dataframe tbody tr th {\n",
       "        vertical-align: top;\n",
       "    }\n",
       "\n",
       "    .dataframe thead th {\n",
       "        text-align: right;\n",
       "    }\n",
       "</style>\n",
       "<table border=\"1\" class=\"dataframe\">\n",
       "  <thead>\n",
       "    <tr style=\"text-align: right;\">\n",
       "      <th></th>\n",
       "      <th>rainfall</th>\n",
       "    </tr>\n",
       "    <tr>\n",
       "      <th>time_zone</th>\n",
       "      <th></th>\n",
       "    </tr>\n",
       "  </thead>\n",
       "  <tbody>\n",
       "    <tr>\n",
       "      <th>1</th>\n",
       "      <td>2041.544444</td>\n",
       "    </tr>\n",
       "    <tr>\n",
       "      <th>2</th>\n",
       "      <td>1654.683333</td>\n",
       "    </tr>\n",
       "    <tr>\n",
       "      <th>3</th>\n",
       "      <td>1752.775000</td>\n",
       "    </tr>\n",
       "  </tbody>\n",
       "</table>\n",
       "</div>"
      ],
      "text/plain": [
       "              rainfall\n",
       "time_zone             \n",
       "1          2041.544444\n",
       "2          1654.683333\n",
       "3          1752.775000"
      ]
     },
     "execution_count": 10,
     "metadata": {},
     "output_type": "execute_result"
    }
   ],
   "source": [
    "df.groupby('time_zone')[['rainfall']].mean()"
   ]
  },
  {
   "cell_type": "markdown",
   "metadata": {},
   "source": [
    "Fungsi **groupby()** dapat digabungkan dengan fungsi **agg()**. Sebagai contoh, mengihtung rata-rata **rainfall** untuk setiap **time_zone**"
   ]
  },
  {
   "cell_type": "code",
   "execution_count": 11,
   "metadata": {},
   "outputs": [
    {
     "data": {
      "text/html": [
       "<div>\n",
       "<style scoped>\n",
       "    .dataframe tbody tr th:only-of-type {\n",
       "        vertical-align: middle;\n",
       "    }\n",
       "\n",
       "    .dataframe tbody tr th {\n",
       "        vertical-align: top;\n",
       "    }\n",
       "\n",
       "    .dataframe thead th {\n",
       "        text-align: right;\n",
       "    }\n",
       "</style>\n",
       "<table border=\"1\" class=\"dataframe\">\n",
       "  <thead>\n",
       "    <tr style=\"text-align: right;\">\n",
       "      <th></th>\n",
       "      <th>avg_rainfall</th>\n",
       "    </tr>\n",
       "    <tr>\n",
       "      <th>time_zone</th>\n",
       "      <th></th>\n",
       "    </tr>\n",
       "  </thead>\n",
       "  <tbody>\n",
       "    <tr>\n",
       "      <th>1</th>\n",
       "      <td>2041.544444</td>\n",
       "    </tr>\n",
       "    <tr>\n",
       "      <th>2</th>\n",
       "      <td>1654.683333</td>\n",
       "    </tr>\n",
       "    <tr>\n",
       "      <th>3</th>\n",
       "      <td>1752.775000</td>\n",
       "    </tr>\n",
       "  </tbody>\n",
       "</table>\n",
       "</div>"
      ],
      "text/plain": [
       "           avg_rainfall\n",
       "time_zone              \n",
       "1           2041.544444\n",
       "2           1654.683333\n",
       "3           1752.775000"
      ]
     },
     "execution_count": 11,
     "metadata": {},
     "output_type": "execute_result"
    }
   ],
   "source": [
    "df.groupby('time_zone').agg(avg_rainfall=('rainfall', 'mean'))"
   ]
  },
  {
   "cell_type": "markdown",
   "metadata": {},
   "source": [
    "Untuk melakukan bebrapa perhitungan statistik yang dikelompokkan berdasarkan nilai unik sebuah kolom, dapat dilakukan sebagai berikut"
   ]
  },
  {
   "cell_type": "code",
   "execution_count": 12,
   "metadata": {},
   "outputs": [
    {
     "data": {
      "text/html": [
       "<div>\n",
       "<style scoped>\n",
       "    .dataframe tbody tr th:only-of-type {\n",
       "        vertical-align: middle;\n",
       "    }\n",
       "\n",
       "    .dataframe tbody tr th {\n",
       "        vertical-align: top;\n",
       "    }\n",
       "\n",
       "    .dataframe thead th {\n",
       "        text-align: right;\n",
       "    }\n",
       "</style>\n",
       "<table border=\"1\" class=\"dataframe\">\n",
       "  <thead>\n",
       "    <tr style=\"text-align: right;\">\n",
       "      <th></th>\n",
       "      <th>avg_rainfall</th>\n",
       "      <th>max_rainfall</th>\n",
       "      <th>min_rainfall</th>\n",
       "    </tr>\n",
       "    <tr>\n",
       "      <th>time_zone</th>\n",
       "      <th></th>\n",
       "      <th></th>\n",
       "      <th></th>\n",
       "    </tr>\n",
       "  </thead>\n",
       "  <tbody>\n",
       "    <tr>\n",
       "      <th>1</th>\n",
       "      <td>2041.544444</td>\n",
       "      <td>3548.0</td>\n",
       "      <td>975.9</td>\n",
       "    </tr>\n",
       "    <tr>\n",
       "      <th>2</th>\n",
       "      <td>1654.683333</td>\n",
       "      <td>3382.0</td>\n",
       "      <td>460.9</td>\n",
       "    </tr>\n",
       "    <tr>\n",
       "      <th>3</th>\n",
       "      <td>1752.775000</td>\n",
       "      <td>2844.6</td>\n",
       "      <td>913.4</td>\n",
       "    </tr>\n",
       "  </tbody>\n",
       "</table>\n",
       "</div>"
      ],
      "text/plain": [
       "           avg_rainfall  max_rainfall  min_rainfall\n",
       "time_zone                                          \n",
       "1           2041.544444        3548.0         975.9\n",
       "2           1654.683333        3382.0         460.9\n",
       "3           1752.775000        2844.6         913.4"
      ]
     },
     "execution_count": 12,
     "metadata": {},
     "output_type": "execute_result"
    }
   ],
   "source": [
    "df.groupby('time_zone').agg(\n",
    "    avg_rainfall=('rainfall', 'mean'),\n",
    "    max_rainfall=('rainfall', 'max'),\n",
    "    min_rainfall=('rainfall', 'min'))"
   ]
  },
  {
   "cell_type": "markdown",
   "metadata": {},
   "source": [
    "Perhitungan aggregasi untuk kolom yang berbeda"
   ]
  },
  {
   "cell_type": "code",
   "execution_count": 13,
   "metadata": {},
   "outputs": [
    {
     "data": {
      "text/html": [
       "<div>\n",
       "<style scoped>\n",
       "    .dataframe tbody tr th:only-of-type {\n",
       "        vertical-align: middle;\n",
       "    }\n",
       "\n",
       "    .dataframe tbody tr th {\n",
       "        vertical-align: top;\n",
       "    }\n",
       "\n",
       "    .dataframe thead th {\n",
       "        text-align: right;\n",
       "    }\n",
       "</style>\n",
       "<table border=\"1\" class=\"dataframe\">\n",
       "  <thead>\n",
       "    <tr style=\"text-align: right;\">\n",
       "      <th></th>\n",
       "      <th>avg_rainfall</th>\n",
       "      <th>min_rainy_day</th>\n",
       "      <th>max_rainy_day</th>\n",
       "    </tr>\n",
       "    <tr>\n",
       "      <th>time_zone</th>\n",
       "      <th></th>\n",
       "      <th></th>\n",
       "      <th></th>\n",
       "    </tr>\n",
       "  </thead>\n",
       "  <tbody>\n",
       "    <tr>\n",
       "      <th>1</th>\n",
       "      <td>2041.544444</td>\n",
       "      <td>105</td>\n",
       "      <td>215</td>\n",
       "    </tr>\n",
       "    <tr>\n",
       "      <th>2</th>\n",
       "      <td>1654.683333</td>\n",
       "      <td>68</td>\n",
       "      <td>202</td>\n",
       "    </tr>\n",
       "    <tr>\n",
       "      <th>3</th>\n",
       "      <td>1752.775000</td>\n",
       "      <td>127</td>\n",
       "      <td>218</td>\n",
       "    </tr>\n",
       "  </tbody>\n",
       "</table>\n",
       "</div>"
      ],
      "text/plain": [
       "           avg_rainfall  min_rainy_day  max_rainy_day\n",
       "time_zone                                            \n",
       "1           2041.544444            105            215\n",
       "2           1654.683333             68            202\n",
       "3           1752.775000            127            218"
      ]
     },
     "execution_count": 13,
     "metadata": {},
     "output_type": "execute_result"
    }
   ],
   "source": [
    "df.groupby('time_zone').agg(\n",
    "    avg_rainfall=('rainfall', 'mean'),\n",
    "    min_rainy_day=('rainy_day', 'min'),\n",
    "    max_rainy_day=('rainy_day', 'max'))"
   ]
  },
  {
   "cell_type": "markdown",
   "metadata": {},
   "source": [
    "Supaya kolom time_zone tidak ditampilkan sebagai index, maka parameter **as_index** diset **False**"
   ]
  },
  {
   "cell_type": "code",
   "execution_count": 14,
   "metadata": {},
   "outputs": [
    {
     "data": {
      "text/html": [
       "<div>\n",
       "<style scoped>\n",
       "    .dataframe tbody tr th:only-of-type {\n",
       "        vertical-align: middle;\n",
       "    }\n",
       "\n",
       "    .dataframe tbody tr th {\n",
       "        vertical-align: top;\n",
       "    }\n",
       "\n",
       "    .dataframe thead th {\n",
       "        text-align: right;\n",
       "    }\n",
       "</style>\n",
       "<table border=\"1\" class=\"dataframe\">\n",
       "  <thead>\n",
       "    <tr style=\"text-align: right;\">\n",
       "      <th></th>\n",
       "      <th>time_zone</th>\n",
       "      <th>avg_rainfall</th>\n",
       "      <th>min_rainy_day</th>\n",
       "      <th>max_rainy_day</th>\n",
       "    </tr>\n",
       "  </thead>\n",
       "  <tbody>\n",
       "    <tr>\n",
       "      <th>0</th>\n",
       "      <td>1</td>\n",
       "      <td>2041.544444</td>\n",
       "      <td>105</td>\n",
       "      <td>215</td>\n",
       "    </tr>\n",
       "    <tr>\n",
       "      <th>1</th>\n",
       "      <td>2</td>\n",
       "      <td>1654.683333</td>\n",
       "      <td>68</td>\n",
       "      <td>202</td>\n",
       "    </tr>\n",
       "    <tr>\n",
       "      <th>2</th>\n",
       "      <td>3</td>\n",
       "      <td>1752.775000</td>\n",
       "      <td>127</td>\n",
       "      <td>218</td>\n",
       "    </tr>\n",
       "  </tbody>\n",
       "</table>\n",
       "</div>"
      ],
      "text/plain": [
       "   time_zone  avg_rainfall  min_rainy_day  max_rainy_day\n",
       "0          1   2041.544444            105            215\n",
       "1          2   1654.683333             68            202\n",
       "2          3   1752.775000            127            218"
      ]
     },
     "execution_count": 14,
     "metadata": {},
     "output_type": "execute_result"
    }
   ],
   "source": [
    "df.groupby('time_zone', as_index=False).agg(\n",
    "    avg_rainfall=('rainfall', 'mean'),\n",
    "    min_rainy_day=('rainy_day', 'min'),\n",
    "    max_rainy_day=('rainy_day', 'max'))"
   ]
  },
  {
   "cell_type": "code",
   "execution_count": null,
   "metadata": {},
   "outputs": [],
   "source": []
  },
  {
   "cell_type": "markdown",
   "metadata": {},
   "source": [
    "## Transformasi kolom"
   ]
  },
  {
   "cell_type": "markdown",
   "metadata": {},
   "source": [
    "Salah satu hal yang sering dilakukan juga adalah menambahkan kolom baru dari hasil terhitungan tertentu. Sebagai contoh  kolom **expenses_urban** adalah hasil penjumlahan kolom expenses_food_urban dan expenses_other_urban"
   ]
  },
  {
   "cell_type": "code",
   "execution_count": 15,
   "metadata": {},
   "outputs": [
    {
     "data": {
      "text/html": [
       "<div>\n",
       "<style scoped>\n",
       "    .dataframe tbody tr th:only-of-type {\n",
       "        vertical-align: middle;\n",
       "    }\n",
       "\n",
       "    .dataframe tbody tr th {\n",
       "        vertical-align: top;\n",
       "    }\n",
       "\n",
       "    .dataframe thead th {\n",
       "        text-align: right;\n",
       "    }\n",
       "</style>\n",
       "<table border=\"1\" class=\"dataframe\">\n",
       "  <thead>\n",
       "    <tr style=\"text-align: right;\">\n",
       "      <th></th>\n",
       "      <th>province</th>\n",
       "      <th>island</th>\n",
       "      <th>expenses_urban</th>\n",
       "      <th>expenses_food_urban</th>\n",
       "      <th>expenses_other_urban</th>\n",
       "    </tr>\n",
       "  </thead>\n",
       "  <tbody>\n",
       "    <tr>\n",
       "      <th>0</th>\n",
       "      <td>Aceh</td>\n",
       "      <td>Sumatera</td>\n",
       "      <td>996300</td>\n",
       "      <td>466355</td>\n",
       "      <td>529945</td>\n",
       "    </tr>\n",
       "    <tr>\n",
       "      <th>1</th>\n",
       "      <td>Sumatera Utara</td>\n",
       "      <td>Sumatera</td>\n",
       "      <td>869682</td>\n",
       "      <td>416073</td>\n",
       "      <td>453609</td>\n",
       "    </tr>\n",
       "    <tr>\n",
       "      <th>2</th>\n",
       "      <td>Sumatera Barat</td>\n",
       "      <td>Sumatera</td>\n",
       "      <td>1088499</td>\n",
       "      <td>509609</td>\n",
       "      <td>578890</td>\n",
       "    </tr>\n",
       "    <tr>\n",
       "      <th>3</th>\n",
       "      <td>Riau</td>\n",
       "      <td>Sumatera</td>\n",
       "      <td>1192509</td>\n",
       "      <td>530836</td>\n",
       "      <td>661673</td>\n",
       "    </tr>\n",
       "    <tr>\n",
       "      <th>4</th>\n",
       "      <td>Jambi</td>\n",
       "      <td>Sumatera</td>\n",
       "      <td>1020731</td>\n",
       "      <td>464204</td>\n",
       "      <td>556527</td>\n",
       "    </tr>\n",
       "  </tbody>\n",
       "</table>\n",
       "</div>"
      ],
      "text/plain": [
       "         province    island  expenses_urban  expenses_food_urban  \\\n",
       "0            Aceh  Sumatera          996300               466355   \n",
       "1  Sumatera Utara  Sumatera          869682               416073   \n",
       "2  Sumatera Barat  Sumatera         1088499               509609   \n",
       "3            Riau  Sumatera         1192509               530836   \n",
       "4           Jambi  Sumatera         1020731               464204   \n",
       "\n",
       "   expenses_other_urban  \n",
       "0                529945  \n",
       "1                453609  \n",
       "2                578890  \n",
       "3                661673  \n",
       "4                556527  "
      ]
     },
     "execution_count": 15,
     "metadata": {},
     "output_type": "execute_result"
    }
   ],
   "source": [
    "df['expenses_urban'] = df['expenses_food_urban'] + df['expenses_other_urban']\n",
    "\n",
    "df[['province', 'island', 'expenses_urban', 'expenses_food_urban', 'expenses_other_urban']].head()"
   ]
  },
  {
   "cell_type": "code",
   "execution_count": 16,
   "metadata": {},
   "outputs": [
    {
     "data": {
      "text/plain": [
       "province                34\n",
       "rainfall                34\n",
       "rainy_day               34\n",
       "expenses_food_urban     34\n",
       "expenses_other_urban    34\n",
       "expenses_food_rural     34\n",
       "expense_other_rural     34\n",
       "unemployment            34\n",
       "time_zone               34\n",
       "island                  34\n",
       "expenses_urban          34\n",
       "dtype: int64"
      ]
     },
     "execution_count": 16,
     "metadata": {},
     "output_type": "execute_result"
    }
   ],
   "source": [
    "df.count()"
   ]
  },
  {
   "cell_type": "markdown",
   "metadata": {},
   "source": [
    "Untuk melakukan penghapusan kolom dapat dilakukan dengan perintah **drop()**"
   ]
  },
  {
   "cell_type": "code",
   "execution_count": 17,
   "metadata": {},
   "outputs": [],
   "source": [
    "df = df.drop(columns=['expenses_urban'])"
   ]
  },
  {
   "cell_type": "code",
   "execution_count": 18,
   "metadata": {},
   "outputs": [
    {
     "data": {
      "text/plain": [
       "province                34\n",
       "rainfall                34\n",
       "rainy_day               34\n",
       "expenses_food_urban     34\n",
       "expenses_other_urban    34\n",
       "expenses_food_rural     34\n",
       "expense_other_rural     34\n",
       "unemployment            34\n",
       "time_zone               34\n",
       "island                  34\n",
       "dtype: int64"
      ]
     },
     "execution_count": 18,
     "metadata": {},
     "output_type": "execute_result"
    }
   ],
   "source": [
    "df.count()"
   ]
  },
  {
   "cell_type": "markdown",
   "metadata": {},
   "source": [
    "Merubah nama kolom, misalkan kedalam bahasa Indonesia"
   ]
  },
  {
   "cell_type": "code",
   "execution_count": 19,
   "metadata": {},
   "outputs": [
    {
     "data": {
      "text/plain": [
       "propinsi                34\n",
       "curah_hujan             34\n",
       "rainy_day               34\n",
       "expenses_food_urban     34\n",
       "expenses_other_urban    34\n",
       "expenses_food_rural     34\n",
       "expense_other_rural     34\n",
       "unemployment            34\n",
       "time_zone               34\n",
       "island                  34\n",
       "dtype: int64"
      ]
     },
     "execution_count": 19,
     "metadata": {},
     "output_type": "execute_result"
    }
   ],
   "source": [
    "df.rename(\n",
    "            columns={\"province\": \"propinsi\", \"rainfall\": \"curah_hujan\"},\n",
    "            inplace = True)\n",
    "\n",
    "df.count()"
   ]
  },
  {
   "cell_type": "code",
   "execution_count": null,
   "metadata": {},
   "outputs": [],
   "source": []
  },
  {
   "cell_type": "markdown",
   "metadata": {},
   "source": [
    "## Join dengan data referensi"
   ]
  },
  {
   "cell_type": "markdown",
   "metadata": {},
   "source": [
    "Pada banyak kasus, kita sering menambahkan kolom dengan data yang baru menggunakan data referensi. Penggunaan data referensi biasanya untuk mempermudah maintenance data, sehingga kita tidak perlu mengubah kode. Sebagai contoh, kita akan menambahkan nama zona, dari data referensi zona waktu."
   ]
  },
  {
   "cell_type": "code",
   "execution_count": 20,
   "metadata": {},
   "outputs": [
    {
     "data": {
      "text/html": [
       "<div>\n",
       "<style scoped>\n",
       "    .dataframe tbody tr th:only-of-type {\n",
       "        vertical-align: middle;\n",
       "    }\n",
       "\n",
       "    .dataframe tbody tr th {\n",
       "        vertical-align: top;\n",
       "    }\n",
       "\n",
       "    .dataframe thead th {\n",
       "        text-align: right;\n",
       "    }\n",
       "</style>\n",
       "<table border=\"1\" class=\"dataframe\">\n",
       "  <thead>\n",
       "    <tr style=\"text-align: right;\">\n",
       "      <th></th>\n",
       "      <th>time_zone</th>\n",
       "      <th>name_zone</th>\n",
       "    </tr>\n",
       "  </thead>\n",
       "  <tbody>\n",
       "    <tr>\n",
       "      <th>0</th>\n",
       "      <td>1</td>\n",
       "      <td>WIB</td>\n",
       "    </tr>\n",
       "    <tr>\n",
       "      <th>1</th>\n",
       "      <td>2</td>\n",
       "      <td>WITA</td>\n",
       "    </tr>\n",
       "    <tr>\n",
       "      <th>2</th>\n",
       "      <td>3</td>\n",
       "      <td>WIT</td>\n",
       "    </tr>\n",
       "  </tbody>\n",
       "</table>\n",
       "</div>"
      ],
      "text/plain": [
       "   time_zone name_zone\n",
       "0          1       WIB\n",
       "1          2      WITA\n",
       "2          3       WIT"
      ]
     },
     "execution_count": 20,
     "metadata": {},
     "output_type": "execute_result"
    }
   ],
   "source": [
    "time_zone_data = {\n",
    "        'time_zone': [1, 2, 3],\n",
    "        'name_zone': ['WIB', 'WITA', 'WIT']}\n",
    "\n",
    "time_zone_df = pd.DataFrame(time_zone_data, columns = ['time_zone', 'name_zone'])\n",
    "time_zone_df"
   ]
  },
  {
   "cell_type": "markdown",
   "metadata": {},
   "source": [
    "Pada kasus nyata, tidak menggunakan data referensi yang dibuat menggunakan **kode** seperti diatas. Data referensi diperoleh dari database, baik dalam bentuk file ataupun koneksi langsung ke database. \n",
    "\n",
    "DataFrame diatas memiliki 2 kolom yaitu time_zone yang memiliki type int64 sesuai dengan kolom time_zone pada dataframe **df**. Kolom kedua adalah nama dari name_zone."
   ]
  },
  {
   "cell_type": "markdown",
   "metadata": {},
   "source": [
    "Pada contoh ini akan mentransformasikan **time_zone** pada dataframe **df** dengan menambahkan kolom baru yaitu **name_zone**. Fungsi yang digunakan adalah **merge** dengan parameter **how='left'**. Artinya adalah kita akan melakukan **left join** antara **df** dan **time_zone_df**"
   ]
  },
  {
   "cell_type": "code",
   "execution_count": 21,
   "metadata": {},
   "outputs": [
    {
     "data": {
      "text/html": [
       "<div>\n",
       "<style scoped>\n",
       "    .dataframe tbody tr th:only-of-type {\n",
       "        vertical-align: middle;\n",
       "    }\n",
       "\n",
       "    .dataframe tbody tr th {\n",
       "        vertical-align: top;\n",
       "    }\n",
       "\n",
       "    .dataframe thead th {\n",
       "        text-align: right;\n",
       "    }\n",
       "</style>\n",
       "<table border=\"1\" class=\"dataframe\">\n",
       "  <thead>\n",
       "    <tr style=\"text-align: right;\">\n",
       "      <th></th>\n",
       "      <th>propinsi</th>\n",
       "      <th>curah_hujan</th>\n",
       "      <th>time_zone</th>\n",
       "      <th>name_zone</th>\n",
       "    </tr>\n",
       "  </thead>\n",
       "  <tbody>\n",
       "    <tr>\n",
       "      <th>0</th>\n",
       "      <td>Aceh</td>\n",
       "      <td>1575.0</td>\n",
       "      <td>1</td>\n",
       "      <td>WIB</td>\n",
       "    </tr>\n",
       "    <tr>\n",
       "      <th>1</th>\n",
       "      <td>Sumatera Utara</td>\n",
       "      <td>975.9</td>\n",
       "      <td>1</td>\n",
       "      <td>WIB</td>\n",
       "    </tr>\n",
       "    <tr>\n",
       "      <th>2</th>\n",
       "      <td>Sumatera Barat</td>\n",
       "      <td>3548.0</td>\n",
       "      <td>1</td>\n",
       "      <td>WIB</td>\n",
       "    </tr>\n",
       "    <tr>\n",
       "      <th>3</th>\n",
       "      <td>Riau</td>\n",
       "      <td>2048.3</td>\n",
       "      <td>1</td>\n",
       "      <td>WIB</td>\n",
       "    </tr>\n",
       "    <tr>\n",
       "      <th>4</th>\n",
       "      <td>Jambi</td>\n",
       "      <td>1694.9</td>\n",
       "      <td>1</td>\n",
       "      <td>WIB</td>\n",
       "    </tr>\n",
       "  </tbody>\n",
       "</table>\n",
       "</div>"
      ],
      "text/plain": [
       "         propinsi  curah_hujan  time_zone name_zone\n",
       "0            Aceh       1575.0          1       WIB\n",
       "1  Sumatera Utara        975.9          1       WIB\n",
       "2  Sumatera Barat       3548.0          1       WIB\n",
       "3            Riau       2048.3          1       WIB\n",
       "4           Jambi       1694.9          1       WIB"
      ]
     },
     "execution_count": 21,
     "metadata": {},
     "output_type": "execute_result"
    }
   ],
   "source": [
    "result_df = pd.merge(df, time_zone_df, on='time_zone', how='left')\n",
    "\n",
    "result_df[['propinsi', 'curah_hujan', 'time_zone', 'name_zone']].head()"
   ]
  },
  {
   "cell_type": "code",
   "execution_count": null,
   "metadata": {},
   "outputs": [],
   "source": []
  },
  {
   "cell_type": "markdown",
   "metadata": {},
   "source": [
    "## Data Visualisasi"
   ]
  },
  {
   "cell_type": "markdown",
   "metadata": {},
   "source": [
    "Untuk memvisualisasikan DataFrame kedalam bentuk grafik, dapat menggunakan fungsi **plot()**, yang secara default menggunakan matplotlib\n",
    "\n",
    "Contoh dibawah menampilkan grafik garis untuk x adalah propinsi dan y adalah curah hujan"
   ]
  },
  {
   "cell_type": "code",
   "execution_count": 22,
   "metadata": {},
   "outputs": [],
   "source": [
    "%matplotlib inline"
   ]
  },
  {
   "cell_type": "code",
   "execution_count": 23,
   "metadata": {},
   "outputs": [
    {
     "name": "stderr",
     "output_type": "stream",
     "text": [
      "C:\\Users\\bobkribo\\anaconda3\\envs\\Ngulik Big Data\\lib\\site-packages\\pandas\\plotting\\_matplotlib\\core.py:1235: UserWarning: FixedFormatter should only be used together with FixedLocator\n",
      "  ax.set_xticklabels(xticklabels)\n"
     ]
    },
    {
     "data": {
      "text/plain": [
       "<AxesSubplot:xlabel='propinsi'>"
      ]
     },
     "execution_count": 23,
     "metadata": {},
     "output_type": "execute_result"
    },
    {
     "data": {
      "image/png": "[encoded data removed]",
      "text/plain": [
       "<Figure size 720x360 with 1 Axes>"
      ]
     },
     "metadata": {
      "needs_background": "light"
     },
     "output_type": "display_data"
    }
   ],
   "source": [
    "result_df.plot(x=\"propinsi\", y=\"curah_hujan\", rot=90, figsize=(10,5))"
   ]
  },
  {
   "cell_type": "markdown",
   "metadata": {},
   "source": [
    "Fungsi plot() juga dapat digabungkan dengan fungsi-fungsi aggregasi atau summary"
   ]
  },
  {
   "cell_type": "code",
   "execution_count": 24,
   "metadata": {},
   "outputs": [
    {
     "data": {
      "text/plain": [
       "<AxesSubplot:xlabel='time_zone'>"
      ]
     },
     "execution_count": 24,
     "metadata": {},
     "output_type": "execute_result"
    },
    {
     "data": {
      "image/png": "[encoded data removed]",
      "text/plain": [
       "<Figure size 432x288 with 1 Axes>"
      ]
     },
     "metadata": {
      "needs_background": "light"
     },
     "output_type": "display_data"
    }
   ],
   "source": [
    "result_df.groupby(['time_zone', 'name_zone'], as_index=False).agg(avg_rainfall=('curah_hujan', 'mean'))\\\n",
    "    .plot(x=\"time_zone\", y=\"avg_rainfall\")"
   ]
  },
  {
   "cell_type": "markdown",
   "metadata": {},
   "source": [
    "Data ditampilkan dalam bentuk grafik batang"
   ]
  },
  {
   "cell_type": "code",
   "execution_count": 25,
   "metadata": {},
   "outputs": [
    {
     "data": {
      "text/plain": [
       "<AxesSubplot:xlabel='name_zone'>"
      ]
     },
     "execution_count": 25,
     "metadata": {},
     "output_type": "execute_result"
    },
    {
     "data": {
      "image/png": "[encoded data removed]",
      "text/plain": [
       "<Figure size 432x288 with 1 Axes>"
      ]
     },
     "metadata": {
      "needs_background": "light"
     },
     "output_type": "display_data"
    }
   ],
   "source": [
    "result_df.groupby(['time_zone', 'name_zone'], as_index=False).agg(avg_rainfall=('curah_hujan', 'mean'))\\\n",
    "    .plot(x=\"name_zone\", y=\"avg_rainfall\", kind=\"bar\")"
   ]
  },
  {
   "cell_type": "markdown",
   "metadata": {},
   "source": [
    "## Penutup"
   ]
  },
  {
   "cell_type": "markdown",
   "metadata": {},
   "source": [
    "Membaca data, memeriksa, memfilter, mentransformasi dan melakukan join dengan menggunakan Pandas pada python merupakan hal penting dan sering dilakukan oleh seorang data scientist, data analyts maupun data engineer. Mencoba dengan dataset yang lebih komplek merupakan latihan yang dapat membantu untuk membiasakan diri mengolah data menggunakan Pandas.\n",
    "\n",
    "Artikel ini juga diposting pada [medium](https://medium.com/@sigit303/fastest-way-to-learn-pandas-a-practical-guide-part-1-2720a2d723e0)\n",
    "\n",
    "Versi notebook dapat diakses pada [github](https://github.com/project303/Ngulik-Big-Data/blob/master/Panduan-Praktis-Penggunaan-Pandas--Bagian-2.ipynb)\n",
    "\n",
    "Untuk yang belum pernah menggunakan Python dapat membaca [Berkenalan dengan Python](https://github.com/project303/Ngulik-Big-Data/blob/master/Berkenalan%20dengan%20Python.ipynb)\n",
    "\n",
    "\n",
    "Untuk pelajaran lebih lanjut bisa mengunjungi \n",
    "\n",
    "https://pandas.pydata.org/pandas-docs/stable/getting_started/tutorials.html\n",
    "\n",
    "https://pandas.pydata.org/pandas-docs/stable/user_guide/visualization.html\n",
    "\n",
    "\n",
    "**Enjoy learning and have fun with data !**"
   ]
  },
  {
   "cell_type": "code",
   "execution_count": null,
   "metadata": {},
   "outputs": [],
   "source": []
  }
 ],
 "metadata": {
  "kernelspec": {
   "display_name": "Python 3",
   "language": "python",
   "name": "python3"
  },
  "language_info": {
   "codemirror_mode": {
    "name": "ipython",
    "version": 3
   },
   "file_extension": ".py",
   "mimetype": "text/x-python",
   "name": "python",
   "nbconvert_exporter": "python",
   "pygments_lexer": "ipython3",
   "version": "3.7.7"
  }
 },
 "nbformat": 4,
 "nbformat_minor": 4
}
