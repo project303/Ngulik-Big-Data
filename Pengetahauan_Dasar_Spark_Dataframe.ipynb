{
  "nbformat": 4,
  "nbformat_minor": 0,
  "metadata": {
    "colab": {
      "name": "Pengetahauan Dasar Spark Dataframe.ipynb",
      "provenance": [],
      "toc_visible": true
    },
    "kernelspec": {
      "name": "python3",
      "display_name": "Python 3"
    }
  },
  "cells": [
    {
      "cell_type": "markdown",
      "metadata": {
        "id": "hVLiJ75AupNi",
        "colab_type": "text"
      },
      "source": [
        "References:\n",
        "*   https://dzone.com/articles/pyspark-dataframe-tutorial-introduction-to-datafra\n",
        "*   https://stackoverflow.com/questions/44156365/when-to-cache-a-dataframe\n",
        "*   https://changhsinlee.com/pyspark-dataframe-basics/\n",
        "*   https://www.analyticsvidhya.com/blog/2016/10/spark-dataframe-and-operations/\n",
        "\n",
        "\n",
        "*   https://stackoverflow.com/questions/44156365/when-to-cache-a-dataframe\n",
        "*   https://sparkbyexamples.com/spark/spark-case-when-otherwise-example/\n",
        "*   https://stackoverflow.com/questions/37707305/pyspark-multiple-conditions-in-when-clause\n",
        "*   List item\n",
        "\n",
        "\n",
        "\n",
        "\n",
        "\n"
      ]
    },
    {
      "cell_type": "code",
      "metadata": {
        "id": "Eero6MIiuoR3",
        "colab_type": "code",
        "colab": {}
      },
      "source": [
        ""
      ],
      "execution_count": 0,
      "outputs": []
    },
    {
      "cell_type": "markdown",
      "metadata": {
        "id": "Ddu0S15pElQ8",
        "colab_type": "text"
      },
      "source": [
        "## Tahap Persiapan"
      ]
    },
    {
      "cell_type": "code",
      "metadata": {
        "id": "HOPCIh0cSD8r",
        "colab_type": "code",
        "colab": {
          "base_uri": "https://localhost:8080/",
          "height": 35
        },
        "outputId": "3fbb1a48-cea5-4abd-e4d4-d66d3d1fa3db"
      },
      "source": [
        "%pylab inline"
      ],
      "execution_count": 2,
      "outputs": [
        {
          "output_type": "stream",
          "text": [
            "Populating the interactive namespace from numpy and matplotlib\n"
          ],
          "name": "stdout"
        }
      ]
    },
    {
      "cell_type": "code",
      "metadata": {
        "id": "bAfxiVF7Sl_i",
        "colab_type": "code",
        "colab": {}
      },
      "source": [
        "!apt-get install openjdk-8-jdk-headless -qq > /dev/null\n",
        "!wget -q https://www-us.apache.org/dist/spark/spark-2.4.4/spark-2.4.4-bin-hadoop2.7.tgz\n",
        "!tar xf spark-2.4.4-bin-hadoop2.7.tgz\n",
        "!pip install -q findspark"
      ],
      "execution_count": 0,
      "outputs": []
    },
    {
      "cell_type": "code",
      "metadata": {
        "id": "y65K-somTIaI",
        "colab_type": "code",
        "colab": {}
      },
      "source": [
        "import os\n",
        "os.environ[\"JAVA_HOME\"] = \"/usr/lib/jvm/java-8-openjdk-amd64\"\n",
        "os.environ[\"SPARK_HOME\"] = \"/content/spark-2.4.4-bin-hadoop2.7\""
      ],
      "execution_count": 0,
      "outputs": []
    },
    {
      "cell_type": "code",
      "metadata": {
        "id": "3eoZACQlad_Y",
        "colab_type": "code",
        "colab": {}
      },
      "source": [
        "import findspark\n",
        "findspark.init()\n",
        "from pyspark.sql import SparkSession\n",
        "spark = SparkSession.builder.master(\"local[*]\").getOrCreate()"
      ],
      "execution_count": 0,
      "outputs": []
    },
    {
      "cell_type": "code",
      "metadata": {
        "id": "ah-uzrn0Trxr",
        "colab_type": "code",
        "colab": {}
      },
      "source": [
        "import pandas as pd"
      ],
      "execution_count": 0,
      "outputs": []
    },
    {
      "cell_type": "code",
      "metadata": {
        "id": "BrvPTAcCTLJf",
        "colab_type": "code",
        "colab": {}
      },
      "source": [
        "custData = {'CustomerId': {0: 1, 1: 2, 2: 3, 3: 4, 4: 5, 5: 6},\n",
        "         'Name': {0: 'Owen', 1: 'Florence', 2: 'Laina', 3: 'Lily', 4: 'William', 5: 'Owen'},\n",
        "         'Sex': {0: 'male', 1: 'female', 2: 'female', 3: 'female', 4: 'male', 5: 'male'},\n",
        "         'Survived': {0: 0, 1: 1, 2: 1, 3: 1, 4: 0, 5: 1}}"
      ],
      "execution_count": 0,
      "outputs": []
    },
    {
      "cell_type": "code",
      "metadata": {
        "id": "amboFt1DTeCP",
        "colab_type": "code",
        "colab": {}
      },
      "source": [
        "custInfo = {'CustomerId': {0: 1, 1: 2, 2: 3, 3: 4, 4: 5},\n",
        "         'Age': {0: 22, 1: 38, 2: 26, 3: 35, 4: 35},\n",
        "         'Fare': {0: 7.3, 1: 71.3, 2: 7.9, 3: 53.1, 4: 8.0},\n",
        "         'Pclass': {0: 3, 1: 1, 2: 3, 3: 1, 4: 3},\n",
        "         'RegisteredDate': {0: '2017-04-01', 1: '2017-04-15', 2: '2017-05-12', 3: '2017-02-09', 4: '2017-04-05',}}\n"
      ],
      "execution_count": 0,
      "outputs": []
    },
    {
      "cell_type": "code",
      "metadata": {
        "id": "3VlYV2MBTxop",
        "colab_type": "code",
        "colab": {}
      },
      "source": [
        "pd_custData = pd.DataFrame(custData, columns=custData.keys())\n",
        "pd_custInfo = pd.DataFrame(custInfo, columns=custInfo.keys())\n"
      ],
      "execution_count": 0,
      "outputs": []
    },
    {
      "cell_type": "code",
      "metadata": {
        "id": "k29SkEuOY7J0",
        "colab_type": "code",
        "colab": {
          "base_uri": "https://localhost:8080/",
          "height": 238
        },
        "outputId": "2c8b346d-41a1-4233-9e5f-19ca4374a9f3"
      },
      "source": [
        "pd_custData"
      ],
      "execution_count": 63,
      "outputs": [
        {
          "output_type": "execute_result",
          "data": {
            "text/html": [
              "<div>\n",
              "<style scoped>\n",
              "    .dataframe tbody tr th:only-of-type {\n",
              "        vertical-align: middle;\n",
              "    }\n",
              "\n",
              "    .dataframe tbody tr th {\n",
              "        vertical-align: top;\n",
              "    }\n",
              "\n",
              "    .dataframe thead th {\n",
              "        text-align: right;\n",
              "    }\n",
              "</style>\n",
              "<table border=\"1\" class=\"dataframe\">\n",
              "  <thead>\n",
              "    <tr style=\"text-align: right;\">\n",
              "      <th></th>\n",
              "      <th>CustomerId</th>\n",
              "      <th>Name</th>\n",
              "      <th>Sex</th>\n",
              "      <th>Survived</th>\n",
              "    </tr>\n",
              "  </thead>\n",
              "  <tbody>\n",
              "    <tr>\n",
              "      <th>0</th>\n",
              "      <td>1</td>\n",
              "      <td>Owen</td>\n",
              "      <td>male</td>\n",
              "      <td>0</td>\n",
              "    </tr>\n",
              "    <tr>\n",
              "      <th>1</th>\n",
              "      <td>2</td>\n",
              "      <td>Florence</td>\n",
              "      <td>female</td>\n",
              "      <td>1</td>\n",
              "    </tr>\n",
              "    <tr>\n",
              "      <th>2</th>\n",
              "      <td>3</td>\n",
              "      <td>Laina</td>\n",
              "      <td>female</td>\n",
              "      <td>1</td>\n",
              "    </tr>\n",
              "    <tr>\n",
              "      <th>3</th>\n",
              "      <td>4</td>\n",
              "      <td>Lily</td>\n",
              "      <td>female</td>\n",
              "      <td>1</td>\n",
              "    </tr>\n",
              "    <tr>\n",
              "      <th>4</th>\n",
              "      <td>5</td>\n",
              "      <td>William</td>\n",
              "      <td>male</td>\n",
              "      <td>0</td>\n",
              "    </tr>\n",
              "    <tr>\n",
              "      <th>5</th>\n",
              "      <td>6</td>\n",
              "      <td>Owen</td>\n",
              "      <td>male</td>\n",
              "      <td>1</td>\n",
              "    </tr>\n",
              "  </tbody>\n",
              "</table>\n",
              "</div>"
            ],
            "text/plain": [
              "   CustomerId      Name     Sex  Survived\n",
              "0           1      Owen    male         0\n",
              "1           2  Florence  female         1\n",
              "2           3     Laina  female         1\n",
              "3           4      Lily  female         1\n",
              "4           5   William    male         0\n",
              "5           6      Owen    male         1"
            ]
          },
          "metadata": {
            "tags": []
          },
          "execution_count": 63
        }
      ]
    },
    {
      "cell_type": "code",
      "metadata": {
        "id": "NSvpAOv0ZEw7",
        "colab_type": "code",
        "colab": {
          "base_uri": "https://localhost:8080/",
          "height": 206
        },
        "outputId": "0f013da6-6cb0-4447-b273-1ad6ec1136b1"
      },
      "source": [
        "pd_custInfo"
      ],
      "execution_count": 31,
      "outputs": [
        {
          "output_type": "execute_result",
          "data": {
            "text/html": [
              "<div>\n",
              "<style scoped>\n",
              "    .dataframe tbody tr th:only-of-type {\n",
              "        vertical-align: middle;\n",
              "    }\n",
              "\n",
              "    .dataframe tbody tr th {\n",
              "        vertical-align: top;\n",
              "    }\n",
              "\n",
              "    .dataframe thead th {\n",
              "        text-align: right;\n",
              "    }\n",
              "</style>\n",
              "<table border=\"1\" class=\"dataframe\">\n",
              "  <thead>\n",
              "    <tr style=\"text-align: right;\">\n",
              "      <th></th>\n",
              "      <th>CustomerId</th>\n",
              "      <th>Age</th>\n",
              "      <th>Fare</th>\n",
              "      <th>Pclass</th>\n",
              "      <th>RegisteredDate</th>\n",
              "    </tr>\n",
              "  </thead>\n",
              "  <tbody>\n",
              "    <tr>\n",
              "      <th>0</th>\n",
              "      <td>1</td>\n",
              "      <td>22</td>\n",
              "      <td>7.3</td>\n",
              "      <td>3</td>\n",
              "      <td>2017-04-01</td>\n",
              "    </tr>\n",
              "    <tr>\n",
              "      <th>1</th>\n",
              "      <td>2</td>\n",
              "      <td>38</td>\n",
              "      <td>71.3</td>\n",
              "      <td>1</td>\n",
              "      <td>2017-04-15</td>\n",
              "    </tr>\n",
              "    <tr>\n",
              "      <th>2</th>\n",
              "      <td>3</td>\n",
              "      <td>26</td>\n",
              "      <td>7.9</td>\n",
              "      <td>3</td>\n",
              "      <td>2017-05-12</td>\n",
              "    </tr>\n",
              "    <tr>\n",
              "      <th>3</th>\n",
              "      <td>4</td>\n",
              "      <td>35</td>\n",
              "      <td>53.1</td>\n",
              "      <td>1</td>\n",
              "      <td>2017-02-09</td>\n",
              "    </tr>\n",
              "    <tr>\n",
              "      <th>4</th>\n",
              "      <td>5</td>\n",
              "      <td>35</td>\n",
              "      <td>8.0</td>\n",
              "      <td>3</td>\n",
              "      <td>2017-04-05</td>\n",
              "    </tr>\n",
              "  </tbody>\n",
              "</table>\n",
              "</div>"
            ],
            "text/plain": [
              "   CustomerId  Age  Fare  Pclass RegisteredDate\n",
              "0           1   22   7.3       3     2017-04-01\n",
              "1           2   38  71.3       1     2017-04-15\n",
              "2           3   26   7.9       3     2017-05-12\n",
              "3           4   35  53.1       1     2017-02-09\n",
              "4           5   35   8.0       3     2017-04-05"
            ]
          },
          "metadata": {
            "tags": []
          },
          "execution_count": 31
        }
      ]
    },
    {
      "cell_type": "code",
      "metadata": {
        "id": "Jif5bXvbZXCb",
        "colab_type": "code",
        "colab": {}
      },
      "source": [
        "df_custData = spark.createDataFrame(pd_custData)\n",
        "df_custInfo = spark.createDataFrame(pd_custInfo)"
      ],
      "execution_count": 0,
      "outputs": []
    },
    {
      "cell_type": "code",
      "metadata": {
        "id": "6yq47MYCZoIY",
        "colab_type": "code",
        "colab": {
          "base_uri": "https://localhost:8080/",
          "height": 219
        },
        "outputId": "bba36025-27df-42ca-b3ab-288408bdb4d7"
      },
      "source": [
        "df_custData.show()"
      ],
      "execution_count": 65,
      "outputs": [
        {
          "output_type": "stream",
          "text": [
            "+----------+--------+------+--------+\n",
            "|CustomerId|    Name|   Sex|Survived|\n",
            "+----------+--------+------+--------+\n",
            "|         1|    Owen|  male|       0|\n",
            "|         2|Florence|female|       1|\n",
            "|         3|   Laina|female|       1|\n",
            "|         4|    Lily|female|       1|\n",
            "|         5| William|  male|       0|\n",
            "|         6|    Owen|  male|       1|\n",
            "+----------+--------+------+--------+\n",
            "\n"
          ],
          "name": "stdout"
        }
      ]
    },
    {
      "cell_type": "code",
      "metadata": {
        "id": "Fjsz6lpxaD-8",
        "colab_type": "code",
        "colab": {
          "base_uri": "https://localhost:8080/",
          "height": 35
        },
        "outputId": "ffc9de75-8f8a-4793-a614-3245cd6c300f"
      },
      "source": [
        "print ('Number of records: %d ' % df_custData.count()) "
      ],
      "execution_count": 66,
      "outputs": [
        {
          "output_type": "stream",
          "text": [
            "Number of records: 6 \n"
          ],
          "name": "stdout"
        }
      ]
    },
    {
      "cell_type": "code",
      "metadata": {
        "id": "wt7IdGmTaic9",
        "colab_type": "code",
        "colab": {
          "base_uri": "https://localhost:8080/",
          "height": 35
        },
        "outputId": "b163023e-f232-40f4-a65c-692b89a64d4c"
      },
      "source": [
        "print ('Number of column: %d ' % len(df_custData.columns))"
      ],
      "execution_count": 67,
      "outputs": [
        {
          "output_type": "stream",
          "text": [
            "Number of column: 4 \n"
          ],
          "name": "stdout"
        }
      ]
    },
    {
      "cell_type": "code",
      "metadata": {
        "id": "GCxr3buEapGv",
        "colab_type": "code",
        "colab": {
          "base_uri": "https://localhost:8080/",
          "height": 127
        },
        "outputId": "8261348a-d4d6-4ae6-e7bf-fa1ae657e75a"
      },
      "source": [
        "df_custData.printSchema()"
      ],
      "execution_count": 68,
      "outputs": [
        {
          "output_type": "stream",
          "text": [
            "root\n",
            " |-- CustomerId: long (nullable = true)\n",
            " |-- Name: string (nullable = true)\n",
            " |-- Sex: string (nullable = true)\n",
            " |-- Survived: long (nullable = true)\n",
            "\n"
          ],
          "name": "stdout"
        }
      ]
    },
    {
      "cell_type": "code",
      "metadata": {
        "id": "ZI8tNMvne_u0",
        "colab_type": "code",
        "colab": {
          "base_uri": "https://localhost:8080/",
          "height": 146
        },
        "outputId": "1d294e1e-2e90-4969-d82a-d81b3f2077f0"
      },
      "source": [
        "df_custInfo.printSchema()"
      ],
      "execution_count": 69,
      "outputs": [
        {
          "output_type": "stream",
          "text": [
            "root\n",
            " |-- CustomerId: long (nullable = true)\n",
            " |-- Age: long (nullable = true)\n",
            " |-- Fare: double (nullable = true)\n",
            " |-- Pclass: long (nullable = true)\n",
            " |-- RegisteredDate: string (nullable = true)\n",
            "\n"
          ],
          "name": "stdout"
        }
      ]
    },
    {
      "cell_type": "code",
      "metadata": {
        "id": "bov2lo2zcsa_",
        "colab_type": "code",
        "colab": {
          "base_uri": "https://localhost:8080/",
          "height": 201
        },
        "outputId": "2064b0d5-14b4-495e-d771-65eb2d99467e"
      },
      "source": [
        "df_custData.describe().show()"
      ],
      "execution_count": 70,
      "outputs": [
        {
          "output_type": "stream",
          "text": [
            "+-------+------------------+--------+------+------------------+\n",
            "|summary|        CustomerId|    Name|   Sex|          Survived|\n",
            "+-------+------------------+--------+------+------------------+\n",
            "|  count|                 6|       6|     6|                 6|\n",
            "|   mean|               3.5|    null|  null|0.6666666666666666|\n",
            "| stddev|1.8708286933869707|    null|  null|0.5163977794943223|\n",
            "|    min|                 1|Florence|female|                 0|\n",
            "|    max|                 6| William|  male|                 1|\n",
            "+-------+------------------+--------+------+------------------+\n",
            "\n"
          ],
          "name": "stdout"
        }
      ]
    },
    {
      "cell_type": "markdown",
      "metadata": {
        "id": "v4zJ0ZIa48wN",
        "colab_type": "text"
      },
      "source": [
        "## Selecting Columns "
      ]
    },
    {
      "cell_type": "code",
      "metadata": {
        "id": "497sPvsgaxd6",
        "colab_type": "code",
        "colab": {
          "base_uri": "https://localhost:8080/",
          "height": 219
        },
        "outputId": "7e850feb-00a1-40f6-eaba-421454a3181a"
      },
      "source": [
        "df_custData.select('CustomerId', 'Name').show()"
      ],
      "execution_count": 71,
      "outputs": [
        {
          "output_type": "stream",
          "text": [
            "+----------+--------+\n",
            "|CustomerId|    Name|\n",
            "+----------+--------+\n",
            "|         1|    Owen|\n",
            "|         2|Florence|\n",
            "|         3|   Laina|\n",
            "|         4|    Lily|\n",
            "|         5| William|\n",
            "|         6|    Owen|\n",
            "+----------+--------+\n",
            "\n"
          ],
          "name": "stdout"
        }
      ]
    },
    {
      "cell_type": "markdown",
      "metadata": {
        "id": "UtkhQS0P4r-0",
        "colab_type": "text"
      },
      "source": [
        "## Filtering Data "
      ]
    },
    {
      "cell_type": "code",
      "metadata": {
        "id": "HWHf1YNYbgOi",
        "colab_type": "code",
        "colab": {
          "base_uri": "https://localhost:8080/",
          "height": 164
        },
        "outputId": "89d7454a-daf1-49c5-e184-c0d2c0f14102"
      },
      "source": [
        "df_custData.select('CustomerId', 'Name') \\\n",
        "           .filter(\"Sex = 'female'\") \\\n",
        "           .show()"
      ],
      "execution_count": 72,
      "outputs": [
        {
          "output_type": "stream",
          "text": [
            "+----------+--------+\n",
            "|CustomerId|    Name|\n",
            "+----------+--------+\n",
            "|         2|Florence|\n",
            "|         3|   Laina|\n",
            "|         4|    Lily|\n",
            "+----------+--------+\n",
            "\n"
          ],
          "name": "stdout"
        }
      ]
    },
    {
      "cell_type": "code",
      "metadata": {
        "id": "_CX-091ic_1D",
        "colab_type": "code",
        "colab": {
          "base_uri": "https://localhost:8080/",
          "height": 127
        },
        "outputId": "835349d1-4e1b-4dc7-f266-18a5cddcabde"
      },
      "source": [
        "df_custData.select('CustomerId', 'Name', 'Sex', 'Survived') \\\n",
        "           .filter(\"Sex == 'female' AND Name == 'Lily'\") \\\n",
        "           .show()"
      ],
      "execution_count": 73,
      "outputs": [
        {
          "output_type": "stream",
          "text": [
            "+----------+----+------+--------+\n",
            "|CustomerId|Name|   Sex|Survived|\n",
            "+----------+----+------+--------+\n",
            "|         4|Lily|female|       1|\n",
            "+----------+----+------+--------+\n",
            "\n"
          ],
          "name": "stdout"
        }
      ]
    },
    {
      "cell_type": "code",
      "metadata": {
        "id": "uS12Z0QVhu9i",
        "colab_type": "code",
        "colab": {
          "base_uri": "https://localhost:8080/",
          "height": 182
        },
        "outputId": "df945cfd-052f-4b86-aaaa-78342821a14f"
      },
      "source": [
        "df_custData.select('CustomerId', 'Name', 'Sex', 'Survived') \\\n",
        "           .filter(\"CustomerId >2\") \\\n",
        "           .show()"
      ],
      "execution_count": 74,
      "outputs": [
        {
          "output_type": "stream",
          "text": [
            "+----------+-------+------+--------+\n",
            "|CustomerId|   Name|   Sex|Survived|\n",
            "+----------+-------+------+--------+\n",
            "|         3|  Laina|female|       1|\n",
            "|         4|   Lily|female|       1|\n",
            "|         5|William|  male|       0|\n",
            "|         6|   Owen|  male|       1|\n",
            "+----------+-------+------+--------+\n",
            "\n"
          ],
          "name": "stdout"
        }
      ]
    },
    {
      "cell_type": "code",
      "metadata": {
        "id": "Nojn1_8Vh_vu",
        "colab_type": "code",
        "colab": {
          "base_uri": "https://localhost:8080/",
          "height": 164
        },
        "outputId": "b0953508-1a42-4a00-8934-62bfdb2c58e6"
      },
      "source": [
        "df_custData.select('CustomerId', 'Name', 'Sex', 'Survived') \\\n",
        "           .filter(\"CustomerId BETWEEN 2 and 4\") \\\n",
        "           .show()"
      ],
      "execution_count": 75,
      "outputs": [
        {
          "output_type": "stream",
          "text": [
            "+----------+--------+------+--------+\n",
            "|CustomerId|    Name|   Sex|Survived|\n",
            "+----------+--------+------+--------+\n",
            "|         2|Florence|female|       1|\n",
            "|         3|   Laina|female|       1|\n",
            "|         4|    Lily|female|       1|\n",
            "+----------+--------+------+--------+\n",
            "\n"
          ],
          "name": "stdout"
        }
      ]
    },
    {
      "cell_type": "code",
      "metadata": {
        "id": "HikeqmGAjoBh",
        "colab_type": "code",
        "colab": {
          "base_uri": "https://localhost:8080/",
          "height": 164
        },
        "outputId": "52a8bdd2-1dd0-4c5a-f334-42f6175aa07b"
      },
      "source": [
        "df_custInfo.filter(\"RegisteredDate BETWEEN '2017-04-01' AND '2017-04-30'\") \\\n",
        "           .orderBy(\"RegisteredDate\") \\\n",
        "           .show()"
      ],
      "execution_count": 76,
      "outputs": [
        {
          "output_type": "stream",
          "text": [
            "+----------+---+----+------+--------------+\n",
            "|CustomerId|Age|Fare|Pclass|RegisteredDate|\n",
            "+----------+---+----+------+--------------+\n",
            "|         1| 22| 7.3|     3|    2017-04-01|\n",
            "|         5| 35| 8.0|     3|    2017-04-05|\n",
            "|         2| 38|71.3|     1|    2017-04-15|\n",
            "+----------+---+----+------+--------------+\n",
            "\n"
          ],
          "name": "stdout"
        }
      ]
    },
    {
      "cell_type": "markdown",
      "metadata": {
        "id": "MCJ0fZD75DKs",
        "colab_type": "text"
      },
      "source": [
        "## Grouping the Data"
      ]
    },
    {
      "cell_type": "code",
      "metadata": {
        "id": "HnFixYoDmo4L",
        "colab_type": "code",
        "colab": {
          "base_uri": "https://localhost:8080/",
          "height": 146
        },
        "outputId": "7898d01e-3af0-4729-b58e-62bbd3de955d"
      },
      "source": [
        "df_custInfo.groupBy(\"Pclass\") \\\n",
        "           .agg({'*' : 'count', 'Age' : 'avg', 'Fare' : 'sum', 'CustomerId' : 'min'} ) \\\n",
        "           .show()"
      ],
      "execution_count": 77,
      "outputs": [
        {
          "output_type": "stream",
          "text": [
            "+------+--------+---------------+------------------+---------+\n",
            "|Pclass|count(1)|min(CustomerId)|          avg(Age)|sum(Fare)|\n",
            "+------+--------+---------------+------------------+---------+\n",
            "|     1|       2|              2|              36.5|    124.4|\n",
            "|     3|       3|              1|27.666666666666668|     23.2|\n",
            "+------+--------+---------------+------------------+---------+\n",
            "\n"
          ],
          "name": "stdout"
        }
      ]
    },
    {
      "cell_type": "code",
      "metadata": {
        "id": "Bca3OKSuo5Z-",
        "colab_type": "code",
        "colab": {
          "base_uri": "https://localhost:8080/",
          "height": 146
        },
        "outputId": "891a67ca-4825-404d-a7f3-23e3ab77898a"
      },
      "source": [
        "df_custInfo.groupBy(\"Pclass\") \\\n",
        "           .agg({'*' : 'count', 'Age' : 'avg', 'Fare' : 'sum', 'CustomerId' : 'min'} ) \\\n",
        "           .toDF('PClass', 'Num Row', 'Min-CustID', 'Avg_Age', 'Total Fare') \\\n",
        "           .show()"
      ],
      "execution_count": 78,
      "outputs": [
        {
          "output_type": "stream",
          "text": [
            "+------+-------+----------+------------------+----------+\n",
            "|PClass|Num Row|Min-CustID|           Avg_Age|Total Fare|\n",
            "+------+-------+----------+------------------+----------+\n",
            "|     1|      2|         2|              36.5|     124.4|\n",
            "|     3|      3|         1|27.666666666666668|      23.2|\n",
            "+------+-------+----------+------------------+----------+\n",
            "\n"
          ],
          "name": "stdout"
        }
      ]
    },
    {
      "cell_type": "code",
      "metadata": {
        "id": "7J4LfCyOtWCD",
        "colab_type": "code",
        "colab": {
          "base_uri": "https://localhost:8080/",
          "height": 219
        },
        "outputId": "e05c6601-13f8-4bd0-c38c-b1bbfdcf4be5"
      },
      "source": [
        "df_custData.show()"
      ],
      "execution_count": 80,
      "outputs": [
        {
          "output_type": "stream",
          "text": [
            "+----------+--------+------+--------+\n",
            "|CustomerId|    Name|   Sex|Survived|\n",
            "+----------+--------+------+--------+\n",
            "|         1|    Owen|  male|       0|\n",
            "|         2|Florence|female|       1|\n",
            "|         3|   Laina|female|       1|\n",
            "|         4|    Lily|female|       1|\n",
            "|         5| William|  male|       0|\n",
            "|         6|    Owen|  male|       1|\n",
            "+----------+--------+------+--------+\n",
            "\n"
          ],
          "name": "stdout"
        }
      ]
    },
    {
      "cell_type": "code",
      "metadata": {
        "id": "aTySi32Nte6I",
        "colab_type": "code",
        "colab": {
          "base_uri": "https://localhost:8080/",
          "height": 164
        },
        "outputId": "36691873-20cd-4990-8b38-5bb91fea6708"
      },
      "source": [
        "df_custData.groupBy('Sex', 'Survived') \\\n",
        "           .count() \\\n",
        "           .orderBy('Sex') \\\n",
        "           .show()\n"
      ],
      "execution_count": 82,
      "outputs": [
        {
          "output_type": "stream",
          "text": [
            "+------+--------+-----+\n",
            "|   Sex|Survived|count|\n",
            "+------+--------+-----+\n",
            "|female|       1|    3|\n",
            "|  male|       0|    2|\n",
            "|  male|       1|    1|\n",
            "+------+--------+-----+\n",
            "\n"
          ],
          "name": "stdout"
        }
      ]
    },
    {
      "cell_type": "markdown",
      "metadata": {
        "id": "F96Xvovy5TMz",
        "colab_type": "text"
      },
      "source": [
        "## Joining Data"
      ]
    },
    {
      "cell_type": "code",
      "metadata": {
        "id": "pFSSGZDFwYcz",
        "colab_type": "code",
        "colab": {
          "base_uri": "https://localhost:8080/",
          "height": 201
        },
        "outputId": "52fa9ac2-7d99-4405-c569-756f8c55bbf0"
      },
      "source": [
        "df_custData.join(df_custInfo, df_custData.CustomerId == df_custInfo.CustomerId) \\\n",
        "           .orderBy(df_custData.CustomerId) \\\n",
        "           .show()"
      ],
      "execution_count": 85,
      "outputs": [
        {
          "output_type": "stream",
          "text": [
            "+----------+--------+------+--------+----------+---+----+------+--------------+\n",
            "|CustomerId|    Name|   Sex|Survived|CustomerId|Age|Fare|Pclass|RegisteredDate|\n",
            "+----------+--------+------+--------+----------+---+----+------+--------------+\n",
            "|         1|    Owen|  male|       0|         1| 22| 7.3|     3|    2017-04-01|\n",
            "|         2|Florence|female|       1|         2| 38|71.3|     1|    2017-04-15|\n",
            "|         3|   Laina|female|       1|         3| 26| 7.9|     3|    2017-05-12|\n",
            "|         4|    Lily|female|       1|         4| 35|53.1|     1|    2017-02-09|\n",
            "|         5| William|  male|       0|         5| 35| 8.0|     3|    2017-04-05|\n",
            "+----------+--------+------+--------+----------+---+----+------+--------------+\n",
            "\n"
          ],
          "name": "stdout"
        }
      ]
    },
    {
      "cell_type": "code",
      "metadata": {
        "id": "i4Qzp0AWxQME",
        "colab_type": "code",
        "colab": {
          "base_uri": "https://localhost:8080/",
          "height": 219
        },
        "outputId": "a7d629b8-a7e1-497e-a2db-29f9e79780f9"
      },
      "source": [
        "df_custData.join(df_custInfo, df_custData.CustomerId == df_custInfo.CustomerId, 'left_outer') \\\n",
        "           .orderBy(df_custData.CustomerId) \\\n",
        "           .show()"
      ],
      "execution_count": 87,
      "outputs": [
        {
          "output_type": "stream",
          "text": [
            "+----------+--------+------+--------+----------+----+----+------+--------------+\n",
            "|CustomerId|    Name|   Sex|Survived|CustomerId| Age|Fare|Pclass|RegisteredDate|\n",
            "+----------+--------+------+--------+----------+----+----+------+--------------+\n",
            "|         1|    Owen|  male|       0|         1|  22| 7.3|     3|    2017-04-01|\n",
            "|         2|Florence|female|       1|         2|  38|71.3|     1|    2017-04-15|\n",
            "|         3|   Laina|female|       1|         3|  26| 7.9|     3|    2017-05-12|\n",
            "|         4|    Lily|female|       1|         4|  35|53.1|     1|    2017-02-09|\n",
            "|         5| William|  male|       0|         5|  35| 8.0|     3|    2017-04-05|\n",
            "|         6|    Owen|  male|       1|      null|null|null|  null|          null|\n",
            "+----------+--------+------+--------+----------+----+----+------+--------------+\n",
            "\n"
          ],
          "name": "stdout"
        }
      ]
    },
    {
      "cell_type": "markdown",
      "metadata": {
        "id": "_m-ljJqL66nT",
        "colab_type": "text"
      },
      "source": [
        "## Nonequi joins"
      ]
    },
    {
      "cell_type": "code",
      "metadata": {
        "id": "rW36cEQz60or",
        "colab_type": "code",
        "colab": {
          "base_uri": "https://localhost:8080/",
          "height": 384
        },
        "outputId": "5a50cd27-b04b-4320-d0d0-3f695cec7395"
      },
      "source": [
        "df_custData.join(df_custInfo, df_custData.CustomerId <= df_custInfo.CustomerId) \\\n",
        "           .orderBy(df_custData.CustomerId) \\\n",
        "           .show()"
      ],
      "execution_count": 88,
      "outputs": [
        {
          "output_type": "stream",
          "text": [
            "+----------+--------+------+--------+----------+---+----+------+--------------+\n",
            "|CustomerId|    Name|   Sex|Survived|CustomerId|Age|Fare|Pclass|RegisteredDate|\n",
            "+----------+--------+------+--------+----------+---+----+------+--------------+\n",
            "|         1|    Owen|  male|       0|         4| 35|53.1|     1|    2017-02-09|\n",
            "|         1|    Owen|  male|       0|         3| 26| 7.9|     3|    2017-05-12|\n",
            "|         1|    Owen|  male|       0|         2| 38|71.3|     1|    2017-04-15|\n",
            "|         1|    Owen|  male|       0|         1| 22| 7.3|     3|    2017-04-01|\n",
            "|         1|    Owen|  male|       0|         5| 35| 8.0|     3|    2017-04-05|\n",
            "|         2|Florence|female|       1|         2| 38|71.3|     1|    2017-04-15|\n",
            "|         2|Florence|female|       1|         3| 26| 7.9|     3|    2017-05-12|\n",
            "|         2|Florence|female|       1|         4| 35|53.1|     1|    2017-02-09|\n",
            "|         2|Florence|female|       1|         5| 35| 8.0|     3|    2017-04-05|\n",
            "|         3|   Laina|female|       1|         4| 35|53.1|     1|    2017-02-09|\n",
            "|         3|   Laina|female|       1|         5| 35| 8.0|     3|    2017-04-05|\n",
            "|         3|   Laina|female|       1|         3| 26| 7.9|     3|    2017-05-12|\n",
            "|         4|    Lily|female|       1|         5| 35| 8.0|     3|    2017-04-05|\n",
            "|         4|    Lily|female|       1|         4| 35|53.1|     1|    2017-02-09|\n",
            "|         5| William|  male|       0|         5| 35| 8.0|     3|    2017-04-05|\n",
            "+----------+--------+------+--------+----------+---+----+------+--------------+\n",
            "\n"
          ],
          "name": "stdout"
        }
      ]
    },
    {
      "cell_type": "markdown",
      "metadata": {
        "id": "NX8LbQq77WeR",
        "colab_type": "text"
      },
      "source": [
        "## Union"
      ]
    },
    {
      "cell_type": "code",
      "metadata": {
        "id": "7S7a9C8i7Yb-",
        "colab_type": "code",
        "colab": {
          "base_uri": "https://localhost:8080/",
          "height": 329
        },
        "outputId": "ee059f21-6169-4781-b6a5-cac5695e1ab9"
      },
      "source": [
        "df_custData.union(df_custData).show()"
      ],
      "execution_count": 89,
      "outputs": [
        {
          "output_type": "stream",
          "text": [
            "+----------+--------+------+--------+\n",
            "|CustomerId|    Name|   Sex|Survived|\n",
            "+----------+--------+------+--------+\n",
            "|         1|    Owen|  male|       0|\n",
            "|         2|Florence|female|       1|\n",
            "|         3|   Laina|female|       1|\n",
            "|         4|    Lily|female|       1|\n",
            "|         5| William|  male|       0|\n",
            "|         6|    Owen|  male|       1|\n",
            "|         1|    Owen|  male|       0|\n",
            "|         2|Florence|female|       1|\n",
            "|         3|   Laina|female|       1|\n",
            "|         4|    Lily|female|       1|\n",
            "|         5| William|  male|       0|\n",
            "|         6|    Owen|  male|       1|\n",
            "+----------+--------+------+--------+\n",
            "\n"
          ],
          "name": "stdout"
        }
      ]
    }
  ]
}