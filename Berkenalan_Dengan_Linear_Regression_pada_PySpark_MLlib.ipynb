{
  "nbformat": 4,
  "nbformat_minor": 0,
  "metadata": {
    "colab": {
      "name": "Berkenalan Dengan Linear Regression pada PySpark MLlib.ipynb",
      "provenance": []
    },
    "kernelspec": {
      "name": "python3",
      "display_name": "Python 3"
    }
  },
  "cells": [
    {
      "cell_type": "code",
      "metadata": {
        "id": "YBid6jpTpkzV",
        "colab_type": "code",
        "colab": {}
      },
      "source": [
        "# Referensi:\n",
        "# https://becominghuman.ai/jump-start-with-linear-regression-using-pyspark-mllib-f7f1578a684a\n",
        "# dataset: https://www.kaggle.com/rohankayan/years-of-experience-and-salary-dataset"
      ],
      "execution_count": 0,
      "outputs": []
    },
    {
      "cell_type": "markdown",
      "metadata": {
        "id": "QJTC9f-_K85o",
        "colab_type": "text"
      },
      "source": [
        "Last Update"
      ]
    },
    {
      "cell_type": "code",
      "metadata": {
        "id": "xCWjNhEvK18E",
        "colab_type": "code",
        "colab": {
          "base_uri": "https://localhost:8080/",
          "height": 35
        },
        "outputId": "8e148910-6771-4d4f-ee15-bbe7a9ab470b"
      },
      "source": [
        "!date"
      ],
      "execution_count": 59,
      "outputs": [
        {
          "output_type": "stream",
          "text": [
            "Fri Feb  7 10:21:49 UTC 2020\n"
          ],
          "name": "stdout"
        }
      ]
    },
    {
      "cell_type": "code",
      "metadata": {
        "id": "dG7EOS4vLFX-",
        "colab_type": "code",
        "colab": {}
      },
      "source": [
        ""
      ],
      "execution_count": 0,
      "outputs": []
    },
    {
      "cell_type": "markdown",
      "metadata": {
        "id": "wh11ADrcLBqL",
        "colab_type": "text"
      },
      "source": [
        "Here is the code"
      ]
    },
    {
      "cell_type": "code",
      "metadata": {
        "id": "LbZoUjthpoN6",
        "colab_type": "code",
        "colab": {}
      },
      "source": [
        "!apt-get install openjdk-8-jdk-headless -qq > /dev/null\n",
        "!wget -q https://www-us.apache.org/dist/spark/spark-2.4.4/spark-2.4.4-bin-hadoop2.7.tgz\n",
        "!tar xf spark-2.4.4-bin-hadoop2.7.tgz\n",
        "!pip install -q findspark"
      ],
      "execution_count": 0,
      "outputs": []
    },
    {
      "cell_type": "markdown",
      "metadata": {
        "id": "ubDz_EtaLFkM",
        "colab_type": "text"
      },
      "source": [
        ""
      ]
    },
    {
      "cell_type": "code",
      "metadata": {
        "id": "pqFbccaLpoMi",
        "colab_type": "code",
        "colab": {}
      },
      "source": [
        "import os\n",
        "os.environ[\"JAVA_HOME\"] = \"/usr/lib/jvm/java-8-openjdk-amd64\"\n",
        "os.environ[\"SPARK_HOME\"] = \"/content/spark-2.4.4-bin-hadoop2.7\""
      ],
      "execution_count": 0,
      "outputs": []
    },
    {
      "cell_type": "code",
      "metadata": {
        "id": "YhcJxhu6poJj",
        "colab_type": "code",
        "colab": {}
      },
      "source": [
        "import findspark\n",
        "findspark.init()\n",
        "from pyspark.sql import SparkSession\n",
        "spark = SparkSession.builder.master(\"local[*]\").getOrCreate()"
      ],
      "execution_count": 0,
      "outputs": []
    },
    {
      "cell_type": "code",
      "metadata": {
        "id": "vxhAMZGVpqRC",
        "colab_type": "code",
        "colab": {}
      },
      "source": [
        "import pandas as pd\n",
        "import matplotlib.pyplot as plt\n",
        "%matplotlib inline\n",
        "\n",
        "import seaborn as sns\n",
        "from pyspark.ml.feature import VectorAssembler\n",
        "from pyspark.ml.evaluation import RegressionEvaluator"
      ],
      "execution_count": 0,
      "outputs": []
    },
    {
      "cell_type": "code",
      "metadata": {
        "id": "a5ljB7Vvpy-e",
        "colab_type": "code",
        "colab": {
          "base_uri": "https://localhost:8080/",
          "height": 404
        },
        "outputId": "fd8ebe45-6e3c-4a85-b0b4-16b227259f2d"
      },
      "source": [
        "!wget https://www.dropbox.com/s/fhf4aba59ey0i2r/salary_data.csv"
      ],
      "execution_count": 5,
      "outputs": [
        {
          "output_type": "stream",
          "text": [
            "--2020-02-07 08:01:54--  https://www.dropbox.com/s/fhf4aba59ey0i2r/salary_data.csv\n",
            "Resolving www.dropbox.com (www.dropbox.com)... 162.125.8.1, 2620:100:601f:1::a27d:901\n",
            "Connecting to www.dropbox.com (www.dropbox.com)|162.125.8.1|:443... connected.\n",
            "HTTP request sent, awaiting response... 301 Moved Permanently\n",
            "Location: /s/raw/fhf4aba59ey0i2r/salary_data.csv [following]\n",
            "--2020-02-07 08:01:55--  https://www.dropbox.com/s/raw/fhf4aba59ey0i2r/salary_data.csv\n",
            "Reusing existing connection to www.dropbox.com:443.\n",
            "HTTP request sent, awaiting response... 302 Found\n",
            "Location: https://uc1025d159dc1c853ceae41b7b06.dl.dropboxusercontent.com/cd/0/inline/AxpQfPUlnoMB-m3ep0M2gVRITMARhwUPavideXZPTBgZWSYjG941FFG71-cZhKwoiPBZ_HLmwnVI9bVRYm1neUybDuSLzzmt_wRv3Ml5108msfxwiWOpM4gfXoxVHRdPm7s/file# [following]\n",
            "--2020-02-07 08:01:55--  https://uc1025d159dc1c853ceae41b7b06.dl.dropboxusercontent.com/cd/0/inline/AxpQfPUlnoMB-m3ep0M2gVRITMARhwUPavideXZPTBgZWSYjG941FFG71-cZhKwoiPBZ_HLmwnVI9bVRYm1neUybDuSLzzmt_wRv3Ml5108msfxwiWOpM4gfXoxVHRdPm7s/file\n",
            "Resolving uc1025d159dc1c853ceae41b7b06.dl.dropboxusercontent.com (uc1025d159dc1c853ceae41b7b06.dl.dropboxusercontent.com)... 162.125.9.6, 2620:100:601f:6::a27d:906\n",
            "Connecting to uc1025d159dc1c853ceae41b7b06.dl.dropboxusercontent.com (uc1025d159dc1c853ceae41b7b06.dl.dropboxusercontent.com)|162.125.9.6|:443... connected.\n",
            "HTTP request sent, awaiting response... 200 OK\n",
            "Length: 454 [text/plain]\n",
            "Saving to: ‘salary_data.csv’\n",
            "\n",
            "salary_data.csv     100%[===================>]     454  --.-KB/s    in 0s      \n",
            "\n",
            "2020-02-07 08:01:55 (61.7 MB/s) - ‘salary_data.csv’ saved [454/454]\n",
            "\n"
          ],
          "name": "stdout"
        }
      ]
    },
    {
      "cell_type": "code",
      "metadata": {
        "id": "yd0iPD5ZrQs1",
        "colab_type": "code",
        "colab": {}
      },
      "source": [
        "help(spark.read.csv)"
      ],
      "execution_count": 0,
      "outputs": []
    },
    {
      "cell_type": "code",
      "metadata": {
        "id": "nc75fn-erHc0",
        "colab_type": "code",
        "colab": {}
      },
      "source": [
        "df_dataset = spark.read.option(\"delimiter\", \"\\t\").csv(path='salary_data.csv', header = True, inferSchema = True)"
      ],
      "execution_count": 0,
      "outputs": []
    },
    {
      "cell_type": "code",
      "metadata": {
        "id": "rpK0Do_ptdEl",
        "colab_type": "code",
        "colab": {
          "base_uri": "https://localhost:8080/",
          "height": 237
        },
        "outputId": "7096c28a-c994-491d-aa09-57e64dec633b"
      },
      "source": [
        "df_dataset.show(6)"
      ],
      "execution_count": 17,
      "outputs": [
        {
          "output_type": "stream",
          "text": [
            "+---------------+-------+\n",
            "|YearsExperience| Salary|\n",
            "+---------------+-------+\n",
            "|            1.1|39343.0|\n",
            "|            1.3|46205.0|\n",
            "|            1.5|37731.0|\n",
            "|            2.0|43525.0|\n",
            "|            2.2|39891.0|\n",
            "|            2.9|56642.0|\n",
            "+---------------+-------+\n",
            "only showing top 6 rows\n",
            "\n"
          ],
          "name": "stdout"
        }
      ]
    },
    {
      "cell_type": "code",
      "metadata": {
        "id": "ooHwOyg7tmnx",
        "colab_type": "code",
        "colab": {
          "base_uri": "https://localhost:8080/",
          "height": 90
        },
        "outputId": "b369202b-fa34-4f01-a795-97efbe1e6acc"
      },
      "source": [
        "df_dataset.printSchema()"
      ],
      "execution_count": 18,
      "outputs": [
        {
          "output_type": "stream",
          "text": [
            "root\n",
            " |-- YearsExperience: double (nullable = true)\n",
            " |-- Salary: double (nullable = true)\n",
            "\n"
          ],
          "name": "stdout"
        }
      ]
    },
    {
      "cell_type": "code",
      "metadata": {
        "id": "wfIhMX-L13_v",
        "colab_type": "code",
        "colab": {
          "base_uri": "https://localhost:8080/",
          "height": 297
        },
        "outputId": "2c61fc7d-1184-4fa4-d8b7-5c61a845455d"
      },
      "source": [
        "df = df_dataset.toPandas()\n",
        "sns.scatterplot(x='YearsExperience', y='Salary', data=df)"
      ],
      "execution_count": 28,
      "outputs": [
        {
          "output_type": "execute_result",
          "data": {
            "text/plain": [
              "<matplotlib.axes._subplots.AxesSubplot at 0x7f802acf1198>"
            ]
          },
          "metadata": {
            "tags": []
          },
          "execution_count": 28
        },
        {
          "output_type": "display_data",
          "data": {
            "image/png": "[encoded data removed]",
            "text/plain": [
              "<Figure size 432x288 with 1 Axes>"
            ]
          },
          "metadata": {
            "tags": []
          }
        }
      ]
    },
    {
      "cell_type": "code",
      "metadata": {
        "id": "-hS2T05QvGjW",
        "colab_type": "code",
        "colab": {}
      },
      "source": [
        "data2 = df_dataset.select(df_dataset.YearsExperience, df_dataset.Salary.alias('label'))"
      ],
      "execution_count": 0,
      "outputs": []
    },
    {
      "cell_type": "code",
      "metadata": {
        "id": "TG9D-UUUvfQV",
        "colab_type": "code",
        "colab": {
          "base_uri": "https://localhost:8080/",
          "height": 219
        },
        "outputId": "c14c166f-f01a-49c8-b511-92bd6c403724"
      },
      "source": [
        "data2.show(5)"
      ],
      "execution_count": 21,
      "outputs": [
        {
          "output_type": "stream",
          "text": [
            "+---------------+-------+\n",
            "|YearsExperience|  label|\n",
            "+---------------+-------+\n",
            "|            1.1|39343.0|\n",
            "|            1.3|46205.0|\n",
            "|            1.5|37731.0|\n",
            "|            2.0|43525.0|\n",
            "|            2.2|39891.0|\n",
            "+---------------+-------+\n",
            "only showing top 5 rows\n",
            "\n"
          ],
          "name": "stdout"
        }
      ]
    },
    {
      "cell_type": "code",
      "metadata": {
        "id": "u6pNKIEgG873",
        "colab_type": "code",
        "colab": {
          "base_uri": "https://localhost:8080/",
          "height": 293
        },
        "outputId": "a02c2c47-36fd-4d95-99c7-6632aa59a532"
      },
      "source": [
        "assembler = VectorAssembler().setInputCols(['YearsExperience',])\\\n",
        "                            .setOutputCol('features')\n",
        "vec_data = assembler.transform(data2)\n",
        "\n",
        "vec_data = vec_data.select(['features', 'label'])\n",
        "vec_data.show(5)\n",
        "vec_data.printSchema()\n"
      ],
      "execution_count": 44,
      "outputs": [
        {
          "output_type": "stream",
          "text": [
            "+--------+-------+\n",
            "|features|  label|\n",
            "+--------+-------+\n",
            "|   [1.1]|39343.0|\n",
            "|   [1.3]|46205.0|\n",
            "|   [1.5]|37731.0|\n",
            "|   [2.0]|43525.0|\n",
            "|   [2.2]|39891.0|\n",
            "+--------+-------+\n",
            "only showing top 5 rows\n",
            "\n",
            "root\n",
            " |-- features: vector (nullable = true)\n",
            " |-- label: double (nullable = true)\n",
            "\n"
          ],
          "name": "stdout"
        }
      ]
    },
    {
      "cell_type": "code",
      "metadata": {
        "id": "1K0-CvsLvu6S",
        "colab_type": "code",
        "colab": {}
      },
      "source": [
        "train_data, test_data = vec_data.randomSplit([0.7,0.3])"
      ],
      "execution_count": 0,
      "outputs": []
    },
    {
      "cell_type": "code",
      "metadata": {
        "id": "iRpof-nEvyHp",
        "colab_type": "code",
        "colab": {
          "base_uri": "https://localhost:8080/",
          "height": 219
        },
        "outputId": "4fa7cb9e-3b4e-4ff0-fac7-950df7ab32c3"
      },
      "source": [
        "train_data.show(5)"
      ],
      "execution_count": 46,
      "outputs": [
        {
          "output_type": "stream",
          "text": [
            "+--------+-------+\n",
            "|features|  label|\n",
            "+--------+-------+\n",
            "|   [1.1]|39343.0|\n",
            "|   [1.3]|46205.0|\n",
            "|   [1.5]|37731.0|\n",
            "|   [2.2]|39891.0|\n",
            "|   [3.0]|60150.0|\n",
            "+--------+-------+\n",
            "only showing top 5 rows\n",
            "\n"
          ],
          "name": "stdout"
        }
      ]
    },
    {
      "cell_type": "code",
      "metadata": {
        "id": "_Jq8ecOf3eN_",
        "colab_type": "code",
        "colab": {
          "base_uri": "https://localhost:8080/",
          "height": 146
        },
        "outputId": "c7cacb82-d483-471f-9b6d-94e9036a831e"
      },
      "source": [
        "from pyspark.ml.regression import LinearRegression\n",
        "\n",
        "lr = LinearRegression()\n",
        "model = lr.fit(train_data)\n",
        "\n",
        "print(\"Coefficients: \" + str(model.coefficients))\n",
        "print(\"Intercept: \" + str(model.intercept))\n",
        "print(\"\")\n",
        "print (\"##\",\"Mean squared error: % .6f\" % model.summary.meanSquaredError)\n",
        "print (\"##\",\"RMSE: % .6f\" % model.summary.rootMeanSquaredError)\n",
        "print (\"##\",\"R-squared: %f\" %  model.summary.r2)\n",
        "print (\"##\",\"Total iterations: %i\" % model.summary.totalIterations)"
      ],
      "execution_count": 54,
      "outputs": [
        {
          "output_type": "stream",
          "text": [
            "Coefficients: [9443.94990078018]\n",
            "Intercept: 26139.66350205229\n",
            "\n",
            "## Mean squared error:  40440538.539433\n",
            "## RMSE:  6359.287581\n",
            "## R-squared: 0.941949\n",
            "## Total iterations: 1\n"
          ],
          "name": "stdout"
        }
      ]
    },
    {
      "cell_type": "markdown",
      "metadata": {
        "id": "MpEU2npQKbQ6",
        "colab_type": "text"
      },
      "source": [
        "R-squared : 0.94 artinya tingkat akurasi sekitar 94%"
      ]
    },
    {
      "cell_type": "code",
      "metadata": {
        "id": "evi-g8w3JhQl",
        "colab_type": "code",
        "colab": {
          "base_uri": "https://localhost:8080/",
          "height": 495
        },
        "outputId": "86bc2afa-5b7e-495a-df82-2c51762808a4"
      },
      "source": [
        "print(\"ObjectiveHistory: %s\" % str(model.summary.objectiveHistory))\n",
        "model.summary.residuals.show()"
      ],
      "execution_count": 55,
      "outputs": [
        {
          "output_type": "stream",
          "text": [
            "ObjectiveHistory: [0.0]\n",
            "+-------------------+\n",
            "|          residuals|\n",
            "+-------------------+\n",
            "| 2814.9916070895124|\n",
            "|  7788.201626933471|\n",
            "|-2574.5883532225635|\n",
            "| -7025.353283768694|\n",
            "| 5678.4867956071685|\n",
            "| -1915.303184548873|\n",
            "|  8084.696815451127|\n",
            "|  -6958.46310517301|\n",
            "| -7778.858095251024|\n",
            "| -7526.438055563107|\n",
            "|-4477.0180158751755|\n",
            "| -8274.807996031202|\n",
            "|  6895.402023812756|\n",
            "| 11136.637093266618|\n",
            "| 1379.4771726424806|\n",
            "| 10231.947311550233|\n",
            "| 1128.9723611601366|\n",
            "| -5553.212609073918|\n",
            "|  1111.812440535985|\n",
            "| -4166.582549542029|\n",
            "+-------------------+\n",
            "\n"
          ],
          "name": "stdout"
        }
      ]
    },
    {
      "cell_type": "code",
      "metadata": {
        "id": "DgwzQ5VtIW3_",
        "colab_type": "code",
        "colab": {
          "base_uri": "https://localhost:8080/",
          "height": 219
        },
        "outputId": "46ae77b6-9a31-402b-d43a-448ff470df14"
      },
      "source": [
        "lr_predictions = model.transform(test_data)\n",
        "lr_predictions.select(\"prediction\",\"label\",\"features\").show(5)"
      ],
      "execution_count": 56,
      "outputs": [
        {
          "output_type": "stream",
          "text": [
            "+------------------+-------+--------+\n",
            "|        prediction|  label|features|\n",
            "+------------------+-------+--------+\n",
            "| 45027.56330361265|43525.0|   [2.0]|\n",
            "| 53527.11821431482|56642.0|   [2.9]|\n",
            "|61082.278134938955|57189.0|   [3.7]|\n",
            "|   62971.068115095|63218.0|   [3.9]|\n",
            "| 63915.46310517301|55794.0|   [4.0]|\n",
            "+------------------+-------+--------+\n",
            "only showing top 5 rows\n",
            "\n"
          ],
          "name": "stdout"
        }
      ]
    },
    {
      "cell_type": "code",
      "metadata": {
        "id": "evNIX2YKIuLM",
        "colab_type": "code",
        "colab": {
          "base_uri": "https://localhost:8080/",
          "height": 35
        },
        "outputId": "20f6b856-295d-4f9a-8e12-716f2c488eea"
      },
      "source": [
        "lr_evaluator = RegressionEvaluator(predictionCol=\"prediction\", \\\n",
        "                                   labelCol=\"label\",metricName=\"r2\")\n",
        "print(\"R Squared (R2) on test data = %g\" % lr_evaluator.evaluate(lr_predictions))"
      ],
      "execution_count": 57,
      "outputs": [
        {
          "output_type": "stream",
          "text": [
            "R Squared (R2) on test data = 0.982598\n"
          ],
          "name": "stdout"
        }
      ]
    },
    {
      "cell_type": "code",
      "metadata": {
        "id": "lG-SB_JTJKM8",
        "colab_type": "code",
        "colab": {
          "base_uri": "https://localhost:8080/",
          "height": 35
        },
        "outputId": "c6c8b01d-bbff-4a8c-947f-ca6d987a24b4"
      },
      "source": [
        "test_result = model.evaluate(test_data)\n",
        "print(\"Root Mean Squared Error (RMSE) on test data = %g\" % test_result.rootMeanSquaredError)"
      ],
      "execution_count": 58,
      "outputs": [
        {
          "output_type": "stream",
          "text": [
            "Root Mean Squared Error (RMSE) on test data = 3637.48\n"
          ],
          "name": "stdout"
        }
      ]
    }
  ]
}