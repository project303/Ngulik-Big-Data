{
  "nbformat": 4,
  "nbformat_minor": 0,
  "metadata": {
    "colab": {
      "name": "Bermain-dengan-format-tanggal.ipynb",
      "provenance": []
    },
    "kernelspec": {
      "name": "python3",
      "display_name": "Python 3"
    }
  },
  "cells": [
    {
      "cell_type": "markdown",
      "metadata": {
        "id": "t49sIeVPmZ5g",
        "colab_type": "text"
      },
      "source": [
        "# Bermain Dengan Format Tanggal"
      ]
    },
    {
      "cell_type": "code",
      "metadata": {
        "id": "bnEZIsLuN8LR",
        "colab_type": "code",
        "colab": {}
      },
      "source": [
        "!apt-get install openjdk-8-jdk-headless -qq > /dev/null\n",
        "!wget -q https://www-us.apache.org/dist/spark/spark-2.4.4/spark-2.4.4-bin-hadoop2.7.tgz\n",
        "!tar xf spark-2.4.4-bin-hadoop2.7.tgz\n",
        "!pip install -q findspark"
      ],
      "execution_count": 0,
      "outputs": []
    },
    {
      "cell_type": "code",
      "metadata": {
        "id": "Qy4-7XUdN8KG",
        "colab_type": "code",
        "colab": {}
      },
      "source": [
        "import os\n",
        "os.environ[\"JAVA_HOME\"] = \"/usr/lib/jvm/java-8-openjdk-amd64\"\n",
        "os.environ[\"SPARK_HOME\"] = \"/content/spark-2.4.4-bin-hadoop2.7\""
      ],
      "execution_count": 0,
      "outputs": []
    },
    {
      "cell_type": "code",
      "metadata": {
        "id": "Jh7MbsM8N8II",
        "colab_type": "code",
        "colab": {}
      },
      "source": [
        "import findspark\n",
        "findspark.init()\n",
        "from pyspark.sql import SparkSession\n",
        "spark = SparkSession.builder.master(\"local[*]\").getOrCreate()"
      ],
      "execution_count": 0,
      "outputs": []
    },
    {
      "cell_type": "code",
      "metadata": {
        "id": "eKvib7SOOMam",
        "colab_type": "code",
        "colab": {}
      },
      "source": [
        "from pyspark.sql import Row\n",
        "data_dummy = [(\"notebook\",\"2020-01-01 00:00:00\", 4),\n",
        "              (\"notebook\", \"2020-02-10 13:00:00\", 2),\n",
        "              (\"small_phone\", \"2020-02-15 12:00:00\", 7),\n",
        "              (\"small_phone\", \"2020-02-23 09:30:00\", 1)]\n",
        "rdd = spark.sparkContext.parallelize(data_dummy)\n",
        "rdd_data_dummy = rdd.map(lambda x: Row( device=x[0], purchase_time=x[1], day_of_week=x[2] ))\n",
        "df_dataset = spark.createDataFrame(rdd_data_dummy).select('purchase_time', 'device',  'day_of_week')"
      ],
      "execution_count": 0,
      "outputs": []
    },
    {
      "cell_type": "code",
      "metadata": {
        "id": "j9iMu3IaTYiv",
        "colab_type": "code",
        "colab": {
          "base_uri": "https://localhost:8080/",
          "height": 109
        },
        "outputId": "1733f9f3-db63-4e62-f93d-eee720c7dc53"
      },
      "source": [
        "df_dataset.printSchema()"
      ],
      "execution_count": 37,
      "outputs": [
        {
          "output_type": "stream",
          "text": [
            "root\n",
            " |-- purchase_time: string (nullable = true)\n",
            " |-- device: string (nullable = true)\n",
            " |-- day_of_week: long (nullable = true)\n",
            "\n"
          ],
          "name": "stdout"
        }
      ]
    },
    {
      "cell_type": "code",
      "metadata": {
        "id": "nVS6qrrDSM12",
        "colab_type": "code",
        "colab": {
          "base_uri": "https://localhost:8080/",
          "height": 182
        },
        "outputId": "8d800dae-2a9b-4545-eade-1813c90abfac"
      },
      "source": [
        "df_dataset.show()"
      ],
      "execution_count": 38,
      "outputs": [
        {
          "output_type": "stream",
          "text": [
            "+-------------------+-----------+-----------+\n",
            "|      purchase_time|     device|day_of_week|\n",
            "+-------------------+-----------+-----------+\n",
            "|2020-01-01 00:00:00|   notebook|          4|\n",
            "|2020-02-10 13:00:00|   notebook|          2|\n",
            "|2020-02-15 12:00:00|small_phone|          7|\n",
            "|2020-02-23 09:30:00|small_phone|          1|\n",
            "+-------------------+-----------+-----------+\n",
            "\n"
          ],
          "name": "stdout"
        }
      ]
    },
    {
      "cell_type": "code",
      "metadata": {
        "id": "dc3RbI_jUHJ7",
        "colab_type": "code",
        "colab": {
          "base_uri": "https://localhost:8080/",
          "height": 439
        },
        "outputId": "7c53fca0-6535-41cc-bd6c-f7c7fb8c03e4"
      },
      "source": [
        "from pyspark.sql.functions import to_date, date_format, to_timestamp, hour, minute, second\n",
        "\n",
        "df_stg_dataset = df_dataset.withColumn('date_form', to_date(df_dataset.purchase_time)) \\\n",
        "                           .withColumn('date_id', date_format(df_dataset.purchase_time, 'YYYYMMdd')) \\\n",
        "                           .withColumn('hour_id', date_format(df_dataset.purchase_time, 'YYYYMMddHH')) \\\n",
        "                           .withColumn('day_of_month', date_format(df_dataset.purchase_time, 'dd')) \\\n",
        "                           .withColumn('day_name_short', date_format(df_dataset.purchase_time, 'E')) \\\n",
        "                           .withColumn('day_name', date_format(df_dataset.purchase_time, 'EEEE')) \\\n",
        "                           .withColumn('day_of_week_2', date_format(df_dataset.purchase_time, 'u')) \\\n",
        "                           .withColumn('datetime_form', to_timestamp(df_dataset.purchase_time, \"yyyy-MM-dd HH:mm:ss\")) \\\n",
        "                           .withColumn('hour', hour(df_dataset.purchase_time)) \n",
        "df_stg_dataset.show()\n",
        "df_stg_dataset.printSchema()\n",
        "##.withColumn('day_name_2', calendar.day_name[df_dataset.day_of_week_2]) \\"
      ],
      "execution_count": 73,
      "outputs": [
        {
          "output_type": "stream",
          "text": [
            "+-------------------+-----------+-----------+----------+--------+----------+------------+--------------+---------+-------------+-------------------+----+\n",
            "|      purchase_time|     device|day_of_week| date_form| date_id|   hour_id|day_of_month|day_name_short| day_name|day_of_week_2|      datetime_form|hour|\n",
            "+-------------------+-----------+-----------+----------+--------+----------+------------+--------------+---------+-------------+-------------------+----+\n",
            "|2020-01-01 00:00:00|   notebook|          4|2020-01-01|20200101|2020010100|          01|           Wed|Wednesday|            3|2020-01-01 00:00:00|   0|\n",
            "|2020-02-10 13:00:00|   notebook|          2|2020-02-10|20200210|2020021013|          10|           Mon|   Monday|            1|2020-02-10 13:00:00|  13|\n",
            "|2020-02-15 12:00:00|small_phone|          7|2020-02-15|20200215|2020021512|          15|           Sat| Saturday|            6|2020-02-15 12:00:00|  12|\n",
            "|2020-02-23 09:30:00|small_phone|          1|2020-02-23|20200223|2020022309|          23|           Sun|   Sunday|            7|2020-02-23 09:30:00|   9|\n",
            "+-------------------+-----------+-----------+----------+--------+----------+------------+--------------+---------+-------------+-------------------+----+\n",
            "\n",
            "root\n",
            " |-- purchase_time: string (nullable = true)\n",
            " |-- device: string (nullable = true)\n",
            " |-- day_of_week: long (nullable = true)\n",
            " |-- date_form: date (nullable = true)\n",
            " |-- date_id: string (nullable = true)\n",
            " |-- hour_id: string (nullable = true)\n",
            " |-- day_of_month: string (nullable = true)\n",
            " |-- day_name_short: string (nullable = true)\n",
            " |-- day_name: string (nullable = true)\n",
            " |-- day_of_week_2: string (nullable = true)\n",
            " |-- datetime_form: timestamp (nullable = true)\n",
            " |-- hour: integer (nullable = true)\n",
            "\n"
          ],
          "name": "stdout"
        }
      ]
    },
    {
      "cell_type": "code",
      "metadata": {
        "id": "5hnue0oYheAC",
        "colab_type": "code",
        "colab": {
          "base_uri": "https://localhost:8080/",
          "height": 274
        },
        "outputId": "b4550f0e-30ec-413a-a9e0-49fb125507ab"
      },
      "source": [
        "df_dataset.show()\n",
        "df_dataset.printSchema()"
      ],
      "execution_count": 54,
      "outputs": [
        {
          "output_type": "stream",
          "text": [
            "+-------------------+-----------+-----------+\n",
            "|      purchase_time|     device|day_of_week|\n",
            "+-------------------+-----------+-----------+\n",
            "|2020-01-01 00:00:00|   notebook|          4|\n",
            "|2020-02-10 13:00:00|   notebook|          2|\n",
            "|2020-02-15 12:00:00|small_phone|          7|\n",
            "|2020-02-23 09:30:00|small_phone|          1|\n",
            "+-------------------+-----------+-----------+\n",
            "\n",
            "root\n",
            " |-- purchase_time: string (nullable = true)\n",
            " |-- device: string (nullable = true)\n",
            " |-- day_of_week: long (nullable = true)\n",
            "\n"
          ],
          "name": "stdout"
        }
      ]
    },
    {
      "cell_type": "code",
      "metadata": {
        "id": "AG187z4da771",
        "colab_type": "code",
        "colab": {
          "base_uri": "https://localhost:8080/",
          "height": 127
        },
        "outputId": "a47aaf42-94d8-4388-b13a-264b0104bd67"
      },
      "source": [
        "df_stg_dataset.printSchema()"
      ],
      "execution_count": 31,
      "outputs": [
        {
          "output_type": "stream",
          "text": [
            "root\n",
            " |-- purchase_time: string (nullable = true)\n",
            " |-- device: string (nullable = true)\n",
            " |-- day_of_week: long (nullable = true)\n",
            " |-- date_form: string (nullable = true)\n",
            "\n"
          ],
          "name": "stdout"
        }
      ]
    },
    {
      "cell_type": "code",
      "metadata": {
        "id": "w16fy0_dWYdf",
        "colab_type": "code",
        "colab": {}
      },
      "source": [
        ""
      ],
      "execution_count": 0,
      "outputs": []
    },
    {
      "cell_type": "code",
      "metadata": {
        "id": "JmYEaa3vThLK",
        "colab_type": "code",
        "colab": {
          "base_uri": "https://localhost:8080/",
          "height": 109
        },
        "outputId": "94488727-d20d-414a-c914-e8721fbc479b"
      },
      "source": [
        "df_stg_dataset = df_dataset.select('purchase_time', 'device',  'day_of_week')\n",
        "df_stg_dataset.printSchema()"
      ],
      "execution_count": 18,
      "outputs": [
        {
          "output_type": "stream",
          "text": [
            "root\n",
            " |-- purchase_time: string (nullable = true)\n",
            " |-- device: string (nullable = true)\n",
            " |-- day_of_week: long (nullable = true)\n",
            "\n"
          ],
          "name": "stdout"
        }
      ]
    }
  ]
}