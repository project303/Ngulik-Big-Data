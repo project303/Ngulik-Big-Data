{
 "cells": [
  {
   "cell_type": "markdown",
   "metadata": {},
   "source": [
    "# Export Pandas DataFrame Sebagai File CSV\n",
    "\n",
    "Artikel berikut merupakan tutorial pandas singkat mengenai penggunaan fungsi to_csv beserta opsi-opsi yang sering digunakan untuk melakukan export Pandas DataFrame ke file csv. \n",
    "\n",
    "Yuk langsung saja kita **KODING** !"
   ]
  },
  {
   "cell_type": "markdown",
   "metadata": {},
   "source": [
    "## Dataset"
   ]
  },
  {
   "cell_type": "markdown",
   "metadata": {},
   "source": [
    "Sebelum kita koding, kita akan membuat dataset sederhana yang terdiri dari 2 field, yaitu Name, Python Score dan Average Score."
   ]
  },
  {
   "cell_type": "code",
   "execution_count": 13,
   "metadata": {},
   "outputs": [
    {
     "name": "stdout",
     "output_type": "stream",
     "text": [
      "     Name  Python Score  Average Score\n",
      "0    Andi            75          80.67\n",
      "1    Budi            84          75.50\n",
      "2  Candil            95          89.30\n",
      "3  Dudung            64          72.45\n"
     ]
    }
   ],
   "source": [
    "import pandas as pd\n",
    "\n",
    "dataset = {\n",
    "            'Name': ['Andi','Budi','Candil','Dudung'],\n",
    "            'Python Score': [75, 84, 95, 64],\n",
    "            'Average Score': [80.67, 75.5, 89.3, 72.45]\n",
    "          }\n",
    "\n",
    "df = pd.DataFrame(dataset)\n",
    "\n",
    "print (df)"
   ]
  },
  {
   "cell_type": "markdown",
   "metadata": {},
   "source": [
    "## Export Pandas DataFrame ke File csv"
   ]
  },
  {
   "cell_type": "code",
   "execution_count": 2,
   "metadata": {},
   "outputs": [],
   "source": [
    "df.to_csv('filename.csv')"
   ]
  },
  {
   "cell_type": "markdown",
   "metadata": {},
   "source": [
    "Untuk menghilangkan index sehingga tidak ikut ke dalam file csv yang kita export, gunakan opsi opsi **index** yang diset **False**"
   ]
  },
  {
   "cell_type": "code",
   "execution_count": 3,
   "metadata": {},
   "outputs": [],
   "source": [
    "df.to_csv('filename.csv', index=False)"
   ]
  },
  {
   "cell_type": "markdown",
   "metadata": {},
   "source": [
    "## Opsi sep\n",
    "Opsi **sep** digunakan untuk merubah delimeter sesuai yang diharapkan. Delimiter default adalah koma '**,**'"
   ]
  },
  {
   "cell_type": "code",
   "execution_count": 5,
   "metadata": {},
   "outputs": [],
   "source": [
    "df.to_csv('filename.csv',sep='\\t')"
   ]
  },
  {
   "cell_type": "markdown",
   "metadata": {},
   "source": [
    "## Opsi header\n",
    "Jika ada kebutuhan untuk melalukan export Pandas DataFrame ke file csv tanpa menyertakan header atau nama kolom, dapat menggunaka opsi **header** yang diset **False**"
   ]
  },
  {
   "cell_type": "code",
   "execution_count": 15,
   "metadata": {},
   "outputs": [],
   "source": [
    "df.to_csv('filename.csv',header=False)"
   ]
  },
  {
   "cell_type": "markdown",
   "metadata": {},
   "source": [
    "## Opsi columns\n",
    "Untuk melakukan seleksi kolom yang akan dieksport menggunakan opsi **columns**"
   ]
  },
  {
   "cell_type": "code",
   "execution_count": 17,
   "metadata": {},
   "outputs": [],
   "source": [
    "df.to_csv('filename.csv',columns=['Name', 'Average Score'])"
   ]
  },
  {
   "cell_type": "markdown",
   "metadata": {},
   "source": [
    "## Opsi float_format\n",
    "Opsi float_format dapat digunakan untuk memformat data dengan tipe float"
   ]
  },
  {
   "cell_type": "code",
   "execution_count": 14,
   "metadata": {},
   "outputs": [],
   "source": [
    "df.to_csv('filename.csv',float_format='%.2f')"
   ]
  },
  {
   "cell_type": "markdown",
   "metadata": {},
   "source": [
    "## Opsi na_rep\n",
    "Untuk memberikan nilai tertentu pada kolom atau field yang memiliki nilai null dapat dilakukan langsung menggunakan opsi **na_rep**. Contoh dibawah akan mengisi nilai null dengan '**Unknown**' "
   ]
  },
  {
   "cell_type": "code",
   "execution_count": 10,
   "metadata": {},
   "outputs": [],
   "source": [
    "df.to_csv('filename.csv',na_rep='Unkown')"
   ]
  },
  {
   "cell_type": "markdown",
   "metadata": {},
   "source": []
  },
  {
   "cell_type": "code",
   "execution_count": null,
   "metadata": {},
   "outputs": [],
   "source": []
  }
 ],
 "metadata": {
  "kernelspec": {
   "display_name": "Python 3",
   "language": "python",
   "name": "python3"
  },
  "language_info": {
   "codemirror_mode": {
    "name": "ipython",
    "version": 3
   },
   "file_extension": ".py",
   "mimetype": "text/x-python",
   "name": "python",
   "nbconvert_exporter": "python",
   "pygments_lexer": "ipython3",
   "version": "3.7.7"
  }
 },
 "nbformat": 4,
 "nbformat_minor": 4
}
